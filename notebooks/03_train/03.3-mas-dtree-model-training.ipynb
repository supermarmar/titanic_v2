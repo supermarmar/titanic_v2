{
 "cells": [
  {
   "cell_type": "markdown",
   "metadata": {},
   "source": [
    "## **Imports**"
   ]
  },
  {
   "cell_type": "code",
   "execution_count": 5,
   "metadata": {},
   "outputs": [],
   "source": [
    "import os\n",
    "import joblib\n",
    "import pandas as pd\n",
    "import matplotlib.pyplot as plt\n",
    "\n",
    "from sklearn import tree\n",
    "from sklearn.tree import DecisionTreeClassifier\n",
    "from sklearn.model_selection import GridSearchCV\n",
    "from sklearn.metrics import (\n",
    "    confusion_matrix,\n",
    "    accuracy_score,\n",
    "    precision_score,\n",
    "    recall_score,\n",
    "    f1_score,\n",
    "    roc_auc_score,\n",
    ")"
   ]
  },
  {
   "cell_type": "markdown",
   "metadata": {},
   "source": [
    "## **Paths & Global Variables**"
   ]
  },
  {
   "cell_type": "code",
   "execution_count": 2,
   "metadata": {},
   "outputs": [
    {
     "name": "stderr",
     "output_type": "stream",
     "text": [
      "\u001b[32m2025-02-24 11:28:37.938\u001b[0m | \u001b[1mINFO    \u001b[0m | \u001b[36mtitanic.config\u001b[0m:\u001b[36m<module>\u001b[0m:\u001b[36m9\u001b[0m - \u001b[1mPROJ_ROOT path is: C:\\Users\\mario\\OneDrive\\Documents\\Work\\Side Hustles\\Kaggle\\titanic\u001b[0m\n"
     ]
    }
   ],
   "source": [
    "ROOT_PATH = r\"C:\\Users\\mario\\OneDrive\\Documents\\Work\\Side Hustles\\Kaggle\\titanic\"\n",
    "\n",
    "import sys\n",
    "\n",
    "sys.path.append(ROOT_PATH)\n",
    "\n",
    "from titanic.config import PROCESSED_DATA_DIR, MODELS_DIR"
   ]
  },
  {
   "cell_type": "markdown",
   "metadata": {},
   "source": [
    "## **Reading Data**"
   ]
  },
  {
   "cell_type": "code",
   "execution_count": 3,
   "metadata": {},
   "outputs": [],
   "source": [
    "os.chdir(PROCESSED_DATA_DIR)\n",
    "\n",
    "features_selected = pd.read_json(\"dtree_features.json\").index.to_list()\n",
    "\n",
    "X_train = pd.read_parquet(\"X_train.parquet\", columns=features_selected)\n",
    "y_train = pd.read_parquet(\"y_train.parquet\")\n",
    "\n",
    "X_test = pd.read_parquet(\"X_val.parquet\", columns=features_selected)\n",
    "y_test = pd.read_parquet(\"y_val.parquet\")"
   ]
  },
  {
   "cell_type": "markdown",
   "metadata": {},
   "source": [
    "# **Decision Trees**"
   ]
  },
  {
   "cell_type": "markdown",
   "metadata": {},
   "source": [
    "## **Model Fitting**"
   ]
  },
  {
   "cell_type": "code",
   "execution_count": 4,
   "metadata": {},
   "outputs": [
    {
     "data": {
      "text/plain": [
       "{'ccp_alpha': 0.0,\n",
       " 'class_weight': None,\n",
       " 'criterion': 'gini',\n",
       " 'max_depth': None,\n",
       " 'max_features': None,\n",
       " 'max_leaf_nodes': None,\n",
       " 'min_impurity_decrease': 0.0,\n",
       " 'min_samples_leaf': 1,\n",
       " 'min_samples_split': 2,\n",
       " 'min_weight_fraction_leaf': 0.0,\n",
       " 'monotonic_cst': None,\n",
       " 'random_state': None,\n",
       " 'splitter': 'best'}"
      ]
     },
     "execution_count": 4,
     "metadata": {},
     "output_type": "execute_result"
    }
   ],
   "source": [
    "dtree = DecisionTreeClassifier()\n",
    "dtree.get_params()"
   ]
  },
  {
   "cell_type": "markdown",
   "metadata": {},
   "source": [
    "## **Hyperparameter Tuning**"
   ]
  },
  {
   "cell_type": "code",
   "execution_count": 6,
   "metadata": {},
   "outputs": [],
   "source": [
    "grid = {\n",
    "    \"criterion\": [\"gini\", \"entropy\"],\n",
    "    \"splitter\": [\"best\", \"random\"],\n",
    "    \"max_depth\": [1, 2, 5, 10],\n",
    "    \"min_samples_split\": [2, 5, 10],\n",
    "    \"min_samples_leaf\": [1, 2, 5],\n",
    "    \"max_features\": [\"auto\", \"sqrt\", \"log2\"],\n",
    "}"
   ]
  },
  {
   "cell_type": "code",
   "execution_count": 7,
   "metadata": {},
   "outputs": [
    {
     "data": {
      "text/plain": [
       "{'cv': 10,\n",
       " 'error_score': nan,\n",
       " 'estimator__ccp_alpha': 0.0,\n",
       " 'estimator__class_weight': None,\n",
       " 'estimator__criterion': 'gini',\n",
       " 'estimator__max_depth': None,\n",
       " 'estimator__max_features': None,\n",
       " 'estimator__max_leaf_nodes': None,\n",
       " 'estimator__min_impurity_decrease': 0.0,\n",
       " 'estimator__min_samples_leaf': 1,\n",
       " 'estimator__min_samples_split': 2,\n",
       " 'estimator__min_weight_fraction_leaf': 0.0,\n",
       " 'estimator__monotonic_cst': None,\n",
       " 'estimator__random_state': None,\n",
       " 'estimator__splitter': 'best',\n",
       " 'estimator': DecisionTreeClassifier(),\n",
       " 'n_jobs': None,\n",
       " 'param_grid': {'criterion': ['gini', 'entropy'],\n",
       "  'splitter': ['best', 'random'],\n",
       "  'max_depth': [1, 2, 5, 10],\n",
       "  'min_samples_split': [2, 5, 10],\n",
       "  'min_samples_leaf': [1, 2, 5],\n",
       "  'max_features': ['auto', 'sqrt', 'log2']},\n",
       " 'pre_dispatch': '2*n_jobs',\n",
       " 'refit': True,\n",
       " 'return_train_score': False,\n",
       " 'scoring': 'roc_auc',\n",
       " 'verbose': 0}"
      ]
     },
     "execution_count": 7,
     "metadata": {},
     "output_type": "execute_result"
    }
   ],
   "source": [
    "clf = GridSearchCV(dtree, grid, cv=10, scoring=\"roc_auc\")\n",
    "clf.get_params()"
   ]
  },
  {
   "cell_type": "code",
   "execution_count": 8,
   "metadata": {},
   "outputs": [
    {
     "name": "stdout",
     "output_type": "stream",
     "text": [
      "DecisionTreeClassifier(criterion='entropy', max_depth=10, max_features='sqrt',\n",
      "                       min_samples_leaf=5, min_samples_split=5)\n",
      "{'criterion': 'entropy', 'max_depth': 10, 'max_features': 'sqrt', 'min_samples_leaf': 5, 'min_samples_split': 5, 'splitter': 'best'}\n"
     ]
    },
    {
     "name": "stderr",
     "output_type": "stream",
     "text": [
      "c:\\Users\\mario\\AppData\\Local\\Programs\\Python\\Python313\\Lib\\site-packages\\sklearn\\model_selection\\_validation.py:528: FitFailedWarning: \n",
      "1440 fits failed out of a total of 4320.\n",
      "The score on these train-test partitions for these parameters will be set to nan.\n",
      "If these failures are not expected, you can try to debug them by setting error_score='raise'.\n",
      "\n",
      "Below are more details about the failures:\n",
      "--------------------------------------------------------------------------------\n",
      "1440 fits failed with the following error:\n",
      "Traceback (most recent call last):\n",
      "  File \"c:\\Users\\mario\\AppData\\Local\\Programs\\Python\\Python313\\Lib\\site-packages\\sklearn\\model_selection\\_validation.py\", line 866, in _fit_and_score\n",
      "    estimator.fit(X_train, y_train, **fit_params)\n",
      "    ~~~~~~~~~~~~~^^^^^^^^^^^^^^^^^^^^^^^^^^^^^^^^\n",
      "  File \"c:\\Users\\mario\\AppData\\Local\\Programs\\Python\\Python313\\Lib\\site-packages\\sklearn\\base.py\", line 1382, in wrapper\n",
      "    estimator._validate_params()\n",
      "    ~~~~~~~~~~~~~~~~~~~~~~~~~~^^\n",
      "  File \"c:\\Users\\mario\\AppData\\Local\\Programs\\Python\\Python313\\Lib\\site-packages\\sklearn\\base.py\", line 436, in _validate_params\n",
      "    validate_parameter_constraints(\n",
      "    ~~~~~~~~~~~~~~~~~~~~~~~~~~~~~~^\n",
      "        self._parameter_constraints,\n",
      "        ^^^^^^^^^^^^^^^^^^^^^^^^^^^^\n",
      "        self.get_params(deep=False),\n",
      "        ^^^^^^^^^^^^^^^^^^^^^^^^^^^^\n",
      "        caller_name=self.__class__.__name__,\n",
      "        ^^^^^^^^^^^^^^^^^^^^^^^^^^^^^^^^^^^^\n",
      "    )\n",
      "    ^\n",
      "  File \"c:\\Users\\mario\\AppData\\Local\\Programs\\Python\\Python313\\Lib\\site-packages\\sklearn\\utils\\_param_validation.py\", line 98, in validate_parameter_constraints\n",
      "    raise InvalidParameterError(\n",
      "    ...<2 lines>...\n",
      "    )\n",
      "sklearn.utils._param_validation.InvalidParameterError: The 'max_features' parameter of DecisionTreeClassifier must be an int in the range [1, inf), a float in the range (0.0, 1.0], a str among {'log2', 'sqrt'} or None. Got 'auto' instead.\n",
      "\n",
      "  warnings.warn(some_fits_failed_message, FitFailedWarning)\n",
      "c:\\Users\\mario\\AppData\\Local\\Programs\\Python\\Python313\\Lib\\site-packages\\sklearn\\model_selection\\_search.py:1108: UserWarning: One or more of the test scores are non-finite: [       nan        nan        nan        nan        nan        nan\n",
      "        nan        nan        nan        nan        nan        nan\n",
      "        nan        nan        nan        nan        nan        nan\n",
      " 0.67861729 0.6714083  0.64051604 0.65485964 0.6968749  0.62009184\n",
      " 0.62221425 0.61738579 0.70809661 0.60062334 0.67008918 0.67076496\n",
      " 0.69743993 0.61601746 0.65617261 0.59789926 0.65746516 0.60999642\n",
      " 0.62643461 0.66292493 0.66703748 0.64106905 0.69273004 0.60798265\n",
      " 0.71557015 0.63320413 0.64381719 0.66343571 0.687467   0.64302927\n",
      " 0.70887823 0.62776883 0.67236429 0.63576015 0.66457809 0.67111956\n",
      "        nan        nan        nan        nan        nan        nan\n",
      "        nan        nan        nan        nan        nan        nan\n",
      "        nan        nan        nan        nan        nan        nan\n",
      " 0.74769759 0.69183635 0.76289277 0.68699415 0.71594115 0.73565773\n",
      " 0.77799695 0.67805949 0.76236776 0.71932    0.72184211 0.74023873\n",
      " 0.71997987 0.74089756 0.73553318 0.73524241 0.73852681 0.73552297\n",
      " 0.7636264  0.74857042 0.76679314 0.76811198 0.75995965 0.72331919\n",
      " 0.76328292 0.71884816 0.69931475 0.68395612 0.73154563 0.74289116\n",
      " 0.72819012 0.72012889 0.77862313 0.76283181 0.7342918  0.75166865\n",
      "        nan        nan        nan        nan        nan        nan\n",
      "        nan        nan        nan        nan        nan        nan\n",
      "        nan        nan        nan        nan        nan        nan\n",
      " 0.8093979  0.81772253 0.80422228 0.83520626 0.82606205 0.83691098\n",
      " 0.84261839 0.8248456  0.81165608 0.77647666 0.82090506 0.82908158\n",
      " 0.83904833 0.82637487 0.83270831 0.81948852 0.8092378  0.81294017\n",
      " 0.82396767 0.81954652 0.84153803 0.79706957 0.81281244 0.80313762\n",
      " 0.8376909  0.8067425  0.84141543 0.81540638 0.82328004 0.82194254\n",
      " 0.81000205 0.80097469 0.83700243 0.79964142 0.8343168  0.82515395\n",
      "        nan        nan        nan        nan        nan        nan\n",
      "        nan        nan        nan        nan        nan        nan\n",
      "        nan        nan        nan        nan        nan        nan\n",
      " 0.81922191 0.79225897 0.80458317 0.81912264 0.84470033 0.83844155\n",
      " 0.82087783 0.83695978 0.81839037 0.82892299 0.81890531 0.81801955\n",
      " 0.8414492  0.82635764 0.84317706 0.83145107 0.83903249 0.85194938\n",
      " 0.75103342 0.79571819 0.82344556 0.8138403  0.81677171 0.82957125\n",
      " 0.80106187 0.83652902 0.82681263 0.84320713 0.83096769 0.84636264\n",
      " 0.84768232 0.82203045 0.83359117 0.82824567 0.83503445 0.84533185\n",
      "        nan        nan        nan        nan        nan        nan\n",
      "        nan        nan        nan        nan        nan        nan\n",
      "        nan        nan        nan        nan        nan        nan\n",
      " 0.66276833 0.64952879 0.66142516 0.57048167 0.65542706 0.60356248\n",
      " 0.66335084 0.649967   0.62939654 0.70754276 0.6433422  0.61784274\n",
      " 0.70418247 0.67602352 0.64672444 0.59936631 0.67109495 0.66174368\n",
      " 0.68563389 0.63101013 0.73015048 0.5945275  0.70115216 0.5752405\n",
      " 0.64735757 0.63676424 0.68890469 0.64161773 0.65730827 0.6411893\n",
      " 0.65929841 0.64154068 0.61571809 0.6363793  0.6686101  0.65385765\n",
      "        nan        nan        nan        nan        nan        nan\n",
      "        nan        nan        nan        nan        nan        nan\n",
      "        nan        nan        nan        nan        nan        nan\n",
      " 0.7628561  0.74309597 0.75616184 0.68496887 0.71314184 0.73317918\n",
      " 0.74077786 0.72540403 0.7527416  0.72918984 0.75006865 0.73156153\n",
      " 0.73284922 0.7648469  0.7563763  0.7224923  0.74218371 0.73096885\n",
      " 0.72627252 0.72056176 0.78892143 0.74221003 0.77691082 0.69444301\n",
      " 0.7375315  0.6581667  0.77779952 0.74571511 0.7461649  0.72605055\n",
      " 0.74528994 0.74136419 0.74778464 0.73306976 0.7645524  0.70611594\n",
      "        nan        nan        nan        nan        nan        nan\n",
      "        nan        nan        nan        nan        nan        nan\n",
      "        nan        nan        nan        nan        nan        nan\n",
      " 0.83155699 0.80229629 0.82041179 0.83046806 0.81539834 0.79702657\n",
      " 0.82792806 0.80312329 0.83699729 0.82415266 0.8202469  0.79831643\n",
      " 0.83553569 0.80388139 0.826092   0.80961676 0.81881998 0.83052007\n",
      " 0.81853278 0.83206781 0.84703363 0.80981409 0.83232425 0.79158693\n",
      " 0.81220444 0.81317141 0.83448211 0.81463759 0.82364572 0.79735866\n",
      " 0.82643367 0.77980927 0.80533432 0.80897188 0.82786506 0.81129505\n",
      "        nan        nan        nan        nan        nan        nan\n",
      "        nan        nan        nan        nan        nan        nan\n",
      "        nan        nan        nan        nan        nan        nan\n",
      " 0.80110885 0.80086821 0.80456657 0.8357562  0.84988713 0.83112178\n",
      " 0.7950882  0.82224785 0.82921232 0.82750236 0.83091278 0.8342005\n",
      " 0.84049126 0.80512245 0.85929757 0.80946987 0.84050496 0.79605289\n",
      " 0.78391931 0.78997897 0.8234787  0.81097219 0.84302752 0.8186552\n",
      " 0.82089161 0.83142178 0.81099831 0.84018927 0.85015538 0.84199337\n",
      " 0.84354411 0.82967647 0.85012881 0.81231043 0.83646529 0.8232333 ]\n",
      "  warnings.warn(\n"
     ]
    }
   ],
   "source": [
    "clf.fit(X_train, y_train.values.ravel())\n",
    "best_model = clf.best_estimator_\n",
    "print(best_model)\n",
    "print(clf.best_params_)"
   ]
  },
  {
   "cell_type": "markdown",
   "metadata": {},
   "source": [
    "### **Visualizing Decision Trees**"
   ]
  },
  {
   "cell_type": "code",
   "execution_count": 16,
   "metadata": {},
   "outputs": [
    {
     "data": {
      "image/png": "[encoded data removed]",
      "text/plain": [
       "<Figure size 1000x500 with 1 Axes>"
      ]
     },
     "metadata": {},
     "output_type": "display_data"
    }
   ],
   "source": [
    "plt.figure(figsize=(10, 5))\n",
    "tree.plot_tree(\n",
    "    best_model,\n",
    "    feature_names=X_train.columns,\n",
    "    max_depth=1,\n",
    "    class_names=[\"False\", \"True\"],\n",
    "    label=\"all\",\n",
    "    filled=True,\n",
    ")\n",
    "plt.tight_layout()\n",
    "plt.show()"
   ]
  },
  {
   "cell_type": "code",
   "execution_count": 17,
   "metadata": {},
   "outputs": [
    {
     "name": "stdout",
     "output_type": "stream",
     "text": [
      "|--- sex_male <= 0.50\n",
      "|   |--- siblings_spouses <= 2.50\n",
      "|   |   |--- passenger_class_ord <= 0.50\n",
      "|   |   |   |--- fare_log <= 3.19\n",
      "|   |   |   |   |--- num_rooms <= 0.50\n",
      "|   |   |   |   |   |--- parents_children <= 0.50\n",
      "|   |   |   |   |   |   |--- fare_log <= 2.18\n",
      "|   |   |   |   |   |   |   |--- class: True\n",
      "|   |   |   |   |   |   |--- fare_log >  2.18\n",
      "|   |   |   |   |   |   |   |--- title_lcode <= 11.00\n",
      "|   |   |   |   |   |   |   |   |--- fare_log <= 2.38\n",
      "|   |   |   |   |   |   |   |   |   |--- class: False\n",
      "|   |   |   |   |   |   |   |   |--- fare_log >  2.38\n",
      "|   |   |   |   |   |   |   |   |   |--- age_min_max <= 0.25\n",
      "|   |   |   |   |   |   |   |   |   |   |--- class: False\n",
      "|   |   |   |   |   |   |   |   |   |--- age_min_max >  0.25\n",
      "|   |   |   |   |   |   |   |   |   |   |--- class: True\n",
      "|   |   |   |   |   |   |   |--- title_lcode >  11.00\n",
      "|   |   |   |   |   |   |   |   |--- fare_log <= 2.83\n",
      "|   |   |   |   |   |   |   |   |   |--- class: True\n",
      "|   |   |   |   |   |   |   |   |--- fare_log >  2.83\n",
      "|   |   |   |   |   |   |   |   |   |--- class: False\n",
      "|   |   |   |   |   |--- parents_children >  0.50\n",
      "|   |   |   |   |   |   |--- age_min_max <= 0.08\n",
      "|   |   |   |   |   |   |   |--- class: True\n",
      "|   |   |   |   |   |   |--- age_min_max >  0.08\n",
      "|   |   |   |   |   |   |   |--- cabin_level_1_G <= 0.50\n",
      "|   |   |   |   |   |   |   |   |--- class: False\n",
      "|   |   |   |   |   |   |   |--- cabin_level_1_G >  0.50\n",
      "|   |   |   |   |   |   |   |   |--- class: False\n",
      "|   |   |   |   |--- num_rooms >  0.50\n",
      "|   |   |   |   |   |--- class: True\n",
      "|   |   |   |--- fare_log >  3.19\n",
      "|   |   |   |   |--- class: False\n",
      "|   |   |--- passenger_class_ord >  0.50\n",
      "|   |   |   |--- siblings_spouses <= 0.50\n",
      "|   |   |   |   |--- fare_log <= 3.41\n",
      "|   |   |   |   |   |--- age_min_max <= 0.46\n",
      "|   |   |   |   |   |   |--- class: True\n",
      "|   |   |   |   |   |--- age_min_max >  0.46\n",
      "|   |   |   |   |   |   |--- class: True\n",
      "|   |   |   |   |--- fare_log >  3.41\n",
      "|   |   |   |   |   |--- class: True\n",
      "|   |   |   |--- siblings_spouses >  0.50\n",
      "|   |   |   |   |--- title_lcode <= 11.00\n",
      "|   |   |   |   |   |--- class: True\n",
      "|   |   |   |   |--- title_lcode >  11.00\n",
      "|   |   |   |   |   |--- cabin_level_1_D <= 0.50\n",
      "|   |   |   |   |   |   |--- age_min_max <= 0.35\n",
      "|   |   |   |   |   |   |   |--- fare_log <= 3.70\n",
      "|   |   |   |   |   |   |   |   |--- class: True\n",
      "|   |   |   |   |   |   |   |--- fare_log >  3.70\n",
      "|   |   |   |   |   |   |   |   |--- class: True\n",
      "|   |   |   |   |   |   |--- age_min_max >  0.35\n",
      "|   |   |   |   |   |   |   |--- num_rooms <= 0.50\n",
      "|   |   |   |   |   |   |   |   |--- passenger_class_ord <= 1.50\n",
      "|   |   |   |   |   |   |   |   |   |--- class: True\n",
      "|   |   |   |   |   |   |   |   |--- passenger_class_ord >  1.50\n",
      "|   |   |   |   |   |   |   |   |   |--- fare_log <= 3.30\n",
      "|   |   |   |   |   |   |   |   |   |   |--- class: True\n",
      "|   |   |   |   |   |   |   |   |   |--- fare_log >  3.30\n",
      "|   |   |   |   |   |   |   |   |   |   |--- class: True\n",
      "|   |   |   |   |   |   |   |--- num_rooms >  0.50\n",
      "|   |   |   |   |   |   |   |   |--- class: True\n",
      "|   |   |   |   |   |--- cabin_level_1_D >  0.50\n",
      "|   |   |   |   |   |   |--- class: True\n",
      "|   |--- siblings_spouses >  2.50\n",
      "|   |   |--- parents_children <= 1.50\n",
      "|   |   |   |--- class: False\n",
      "|   |   |--- parents_children >  1.50\n",
      "|   |   |   |--- age_min_max <= 0.17\n",
      "|   |   |   |   |--- class: False\n",
      "|   |   |   |--- age_min_max >  0.17\n",
      "|   |   |   |   |--- class: True\n",
      "|--- sex_male >  0.50\n",
      "|   |--- num_rooms <= 0.50\n",
      "|   |   |--- title_lcode <= 10.00\n",
      "|   |   |   |--- siblings_spouses <= 2.50\n",
      "|   |   |   |   |--- age_min_max <= 0.22\n",
      "|   |   |   |   |   |--- class: True\n",
      "|   |   |   |   |--- age_min_max >  0.22\n",
      "|   |   |   |   |   |--- class: False\n",
      "|   |   |   |--- siblings_spouses >  2.50\n",
      "|   |   |   |   |--- age_min_max <= 0.07\n",
      "|   |   |   |   |   |--- class: False\n",
      "|   |   |   |   |--- age_min_max >  0.07\n",
      "|   |   |   |   |   |--- class: False\n",
      "|   |   |--- title_lcode >  10.00\n",
      "|   |   |   |--- fare_log <= 4.01\n",
      "|   |   |   |   |--- parents_children <= 1.50\n",
      "|   |   |   |   |   |--- age_min_max <= 0.56\n",
      "|   |   |   |   |   |   |--- siblings_spouses <= 1.50\n",
      "|   |   |   |   |   |   |   |--- passenger_class_ord <= 1.50\n",
      "|   |   |   |   |   |   |   |   |--- passenger_class_ord <= 0.50\n",
      "|   |   |   |   |   |   |   |   |   |--- parents_children <= 0.50\n",
      "|   |   |   |   |   |   |   |   |   |   |--- class: False\n",
      "|   |   |   |   |   |   |   |   |   |--- parents_children >  0.50\n",
      "|   |   |   |   |   |   |   |   |   |   |--- class: False\n",
      "|   |   |   |   |   |   |   |   |--- passenger_class_ord >  0.50\n",
      "|   |   |   |   |   |   |   |   |   |--- class: False\n",
      "|   |   |   |   |   |   |   |--- passenger_class_ord >  1.50\n",
      "|   |   |   |   |   |   |   |   |--- fare_log <= 1.22\n",
      "|   |   |   |   |   |   |   |   |   |--- class: False\n",
      "|   |   |   |   |   |   |   |   |--- fare_log >  1.22\n",
      "|   |   |   |   |   |   |   |   |   |--- class: False\n",
      "|   |   |   |   |   |   |--- siblings_spouses >  1.50\n",
      "|   |   |   |   |   |   |   |--- class: False\n",
      "|   |   |   |   |   |--- age_min_max >  0.56\n",
      "|   |   |   |   |   |   |--- class: False\n",
      "|   |   |   |   |--- parents_children >  1.50\n",
      "|   |   |   |   |   |--- class: False\n",
      "|   |   |   |--- fare_log >  4.01\n",
      "|   |   |   |   |--- siblings_spouses <= 0.50\n",
      "|   |   |   |   |   |--- cabin_level_1_G <= 0.50\n",
      "|   |   |   |   |   |   |--- class: False\n",
      "|   |   |   |   |   |--- cabin_level_1_G >  0.50\n",
      "|   |   |   |   |   |   |--- class: True\n",
      "|   |   |   |   |--- siblings_spouses >  0.50\n",
      "|   |   |   |   |   |--- class: False\n",
      "|   |--- num_rooms >  0.50\n",
      "|   |   |--- cabin_level_1_D <= 0.50\n",
      "|   |   |   |--- parents_children <= 0.50\n",
      "|   |   |   |   |--- cabin_level_1_B <= 0.50\n",
      "|   |   |   |   |   |--- fare_log <= 3.52\n",
      "|   |   |   |   |   |   |--- class: True\n",
      "|   |   |   |   |   |--- fare_log >  3.52\n",
      "|   |   |   |   |   |   |--- age_min_max <= 0.59\n",
      "|   |   |   |   |   |   |   |--- age_min_max <= 0.50\n",
      "|   |   |   |   |   |   |   |   |--- class: False\n",
      "|   |   |   |   |   |   |   |--- age_min_max >  0.50\n",
      "|   |   |   |   |   |   |   |   |--- class: False\n",
      "|   |   |   |   |   |   |--- age_min_max >  0.59\n",
      "|   |   |   |   |   |   |   |--- class: False\n",
      "|   |   |   |   |--- cabin_level_1_B >  0.50\n",
      "|   |   |   |   |   |--- fare_log <= 3.50\n",
      "|   |   |   |   |   |   |--- class: False\n",
      "|   |   |   |   |   |--- fare_log >  3.50\n",
      "|   |   |   |   |   |   |--- class: False\n",
      "|   |   |   |--- parents_children >  0.50\n",
      "|   |   |   |   |--- title_lcode <= 10.00\n",
      "|   |   |   |   |   |--- class: True\n",
      "|   |   |   |   |--- title_lcode >  10.00\n",
      "|   |   |   |   |   |--- class: False\n",
      "|   |   |--- cabin_level_1_D >  0.50\n",
      "|   |   |   |--- class: False\n",
      "\n"
     ]
    }
   ],
   "source": [
    "print(tree.export_text(best_model, feature_names=X_train.columns))"
   ]
  },
  {
   "cell_type": "markdown",
   "metadata": {},
   "source": [
    "## **Model Testing**"
   ]
  },
  {
   "cell_type": "code",
   "execution_count": 18,
   "metadata": {},
   "outputs": [],
   "source": [
    "y_predicted = best_model.predict(X_test)\n",
    "y_predicted_probs = best_model.predict_proba(X_test)[:, 1]"
   ]
  },
  {
   "cell_type": "code",
   "execution_count": 19,
   "metadata": {},
   "outputs": [
    {
     "data": {
      "application/vnd.microsoft.datawrangler.viewer.v0+json": {
       "columns": [
        {
         "name": "passenger_id",
         "rawType": "int64",
         "type": "integer"
        },
        {
         "name": "predicted",
         "rawType": "bool",
         "type": "boolean"
        },
        {
         "name": "probability",
         "rawType": "float64",
         "type": "float"
        }
       ],
       "conversionMethod": "pd.DataFrame",
       "ref": "cd3c102e-f2f1-45cb-8d43-28e1c9345c2a",
       "rows": [
        [
         "161",
         "False",
         "0.1"
        ],
        [
         "127",
         "False",
         "0.1073170731707317"
        ],
        [
         "429",
         "False",
         "0.1073170731707317"
        ],
        [
         "423",
         "False",
         "0.1073170731707317"
        ],
        [
         "566",
         "False",
         "0.0"
        ]
       ],
       "shape": {
        "columns": 2,
        "rows": 5
       }
      },
      "text/html": [
       "<div>\n",
       "<style scoped>\n",
       "    .dataframe tbody tr th:only-of-type {\n",
       "        vertical-align: middle;\n",
       "    }\n",
       "\n",
       "    .dataframe tbody tr th {\n",
       "        vertical-align: top;\n",
       "    }\n",
       "\n",
       "    .dataframe thead th {\n",
       "        text-align: right;\n",
       "    }\n",
       "</style>\n",
       "<table border=\"1\" class=\"dataframe\">\n",
       "  <thead>\n",
       "    <tr style=\"text-align: right;\">\n",
       "      <th></th>\n",
       "      <th>predicted</th>\n",
       "      <th>probability</th>\n",
       "    </tr>\n",
       "    <tr>\n",
       "      <th>passenger_id</th>\n",
       "      <th></th>\n",
       "      <th></th>\n",
       "    </tr>\n",
       "  </thead>\n",
       "  <tbody>\n",
       "    <tr>\n",
       "      <th>161</th>\n",
       "      <td>False</td>\n",
       "      <td>0.100000</td>\n",
       "    </tr>\n",
       "    <tr>\n",
       "      <th>127</th>\n",
       "      <td>False</td>\n",
       "      <td>0.107317</td>\n",
       "    </tr>\n",
       "    <tr>\n",
       "      <th>429</th>\n",
       "      <td>False</td>\n",
       "      <td>0.107317</td>\n",
       "    </tr>\n",
       "    <tr>\n",
       "      <th>423</th>\n",
       "      <td>False</td>\n",
       "      <td>0.107317</td>\n",
       "    </tr>\n",
       "    <tr>\n",
       "      <th>566</th>\n",
       "      <td>False</td>\n",
       "      <td>0.000000</td>\n",
       "    </tr>\n",
       "  </tbody>\n",
       "</table>\n",
       "</div>"
      ],
      "text/plain": [
       "              predicted  probability\n",
       "passenger_id                        \n",
       "161               False     0.100000\n",
       "127               False     0.107317\n",
       "429               False     0.107317\n",
       "423               False     0.107317\n",
       "566               False     0.000000"
      ]
     },
     "execution_count": 19,
     "metadata": {},
     "output_type": "execute_result"
    }
   ],
   "source": [
    "y_predicted_df = pd.DataFrame(y_predicted, columns=[\"predicted\"], index=X_test.index)\n",
    "y_predicted_probs_df = pd.DataFrame(\n",
    "    y_predicted_probs, columns=[\"probability\"], index=X_test.index\n",
    ")\n",
    "y_predicted_df = pd.concat([y_predicted_df, y_predicted_probs_df], axis=1)\n",
    "y_predicted_df.head()"
   ]
  },
  {
   "cell_type": "markdown",
   "metadata": {},
   "source": [
    "## **Evaluation Metrics**"
   ]
  },
  {
   "cell_type": "code",
   "execution_count": 20,
   "metadata": {},
   "outputs": [
    {
     "name": "stdout",
     "output_type": "stream",
     "text": [
      "0.8592975715068738\n",
      "0.8531417112299464\n"
     ]
    }
   ],
   "source": [
    "best_score = clf.best_score_\n",
    "test_score = clf.score(X_test, y_test)\n",
    "print(best_score)\n",
    "print(test_score)"
   ]
  },
  {
   "cell_type": "code",
   "execution_count": 21,
   "metadata": {},
   "outputs": [
    {
     "data": {
      "application/vnd.microsoft.datawrangler.viewer.v0+json": {
       "columns": [
        {
         "name": "index",
         "rawType": "object",
         "type": "string"
        },
        {
         "name": "predicted no",
         "rawType": "int64",
         "type": "integer"
        },
        {
         "name": "predicted yes",
         "rawType": "int64",
         "type": "integer"
        }
       ],
       "conversionMethod": "pd.DataFrame",
       "ref": "e51a9159-7f2e-44a4-9666-692c67df77b6",
       "rows": [
        [
         "actual no",
         "95",
         "15"
        ],
        [
         "actual yes",
         "23",
         "45"
        ]
       ],
       "shape": {
        "columns": 2,
        "rows": 2
       }
      },
      "text/html": [
       "<div>\n",
       "<style scoped>\n",
       "    .dataframe tbody tr th:only-of-type {\n",
       "        vertical-align: middle;\n",
       "    }\n",
       "\n",
       "    .dataframe tbody tr th {\n",
       "        vertical-align: top;\n",
       "    }\n",
       "\n",
       "    .dataframe thead th {\n",
       "        text-align: right;\n",
       "    }\n",
       "</style>\n",
       "<table border=\"1\" class=\"dataframe\">\n",
       "  <thead>\n",
       "    <tr style=\"text-align: right;\">\n",
       "      <th></th>\n",
       "      <th>predicted no</th>\n",
       "      <th>predicted yes</th>\n",
       "    </tr>\n",
       "  </thead>\n",
       "  <tbody>\n",
       "    <tr>\n",
       "      <th>actual no</th>\n",
       "      <td>95</td>\n",
       "      <td>15</td>\n",
       "    </tr>\n",
       "    <tr>\n",
       "      <th>actual yes</th>\n",
       "      <td>23</td>\n",
       "      <td>45</td>\n",
       "    </tr>\n",
       "  </tbody>\n",
       "</table>\n",
       "</div>"
      ],
      "text/plain": [
       "            predicted no  predicted yes\n",
       "actual no             95             15\n",
       "actual yes            23             45"
      ]
     },
     "execution_count": 21,
     "metadata": {},
     "output_type": "execute_result"
    }
   ],
   "source": [
    "test_conf_matrix = pd.DataFrame(\n",
    "    confusion_matrix(y_test, y_predicted),\n",
    "    index=[\"actual no\", \"actual yes\"],\n",
    "    columns=[\"predicted no\", \"predicted yes\"],\n",
    ")\n",
    "\n",
    "test_conf_matrix"
   ]
  },
  {
   "cell_type": "code",
   "execution_count": 22,
   "metadata": {},
   "outputs": [
    {
     "data": {
      "application/vnd.microsoft.datawrangler.viewer.v0+json": {
       "columns": [
        {
         "name": "index",
         "rawType": "object",
         "type": "string"
        },
        {
         "name": "Value",
         "rawType": "float64",
         "type": "float"
        }
       ],
       "conversionMethod": "pd.DataFrame",
       "ref": "401ece1e-9faf-402a-a2f0-1d4ae6e9a430",
       "rows": [
        [
         "Accuracy",
         "0.7865168539325843"
        ],
        [
         "Precision",
         "0.75"
        ],
        [
         "Recall",
         "0.6617647058823529"
        ],
        [
         "F1 Score",
         "0.703125"
        ],
        [
         "ROC AUC",
         "0.8531417112299464"
        ],
        [
         "Gini",
         "0.7062834224598928"
        ]
       ],
       "shape": {
        "columns": 1,
        "rows": 6
       }
      },
      "text/html": [
       "<div>\n",
       "<style scoped>\n",
       "    .dataframe tbody tr th:only-of-type {\n",
       "        vertical-align: middle;\n",
       "    }\n",
       "\n",
       "    .dataframe tbody tr th {\n",
       "        vertical-align: top;\n",
       "    }\n",
       "\n",
       "    .dataframe thead th {\n",
       "        text-align: right;\n",
       "    }\n",
       "</style>\n",
       "<table border=\"1\" class=\"dataframe\">\n",
       "  <thead>\n",
       "    <tr style=\"text-align: right;\">\n",
       "      <th></th>\n",
       "      <th>Value</th>\n",
       "    </tr>\n",
       "  </thead>\n",
       "  <tbody>\n",
       "    <tr>\n",
       "      <th>Accuracy</th>\n",
       "      <td>0.786517</td>\n",
       "    </tr>\n",
       "    <tr>\n",
       "      <th>Precision</th>\n",
       "      <td>0.750000</td>\n",
       "    </tr>\n",
       "    <tr>\n",
       "      <th>Recall</th>\n",
       "      <td>0.661765</td>\n",
       "    </tr>\n",
       "    <tr>\n",
       "      <th>F1 Score</th>\n",
       "      <td>0.703125</td>\n",
       "    </tr>\n",
       "    <tr>\n",
       "      <th>ROC AUC</th>\n",
       "      <td>0.853142</td>\n",
       "    </tr>\n",
       "    <tr>\n",
       "      <th>Gini</th>\n",
       "      <td>0.706283</td>\n",
       "    </tr>\n",
       "  </tbody>\n",
       "</table>\n",
       "</div>"
      ],
      "text/plain": [
       "              Value\n",
       "Accuracy   0.786517\n",
       "Precision  0.750000\n",
       "Recall     0.661765\n",
       "F1 Score   0.703125\n",
       "ROC AUC    0.853142\n",
       "Gini       0.706283"
      ]
     },
     "execution_count": 22,
     "metadata": {},
     "output_type": "execute_result"
    }
   ],
   "source": [
    "metrics_dict = {\n",
    "    \"Accuracy\": accuracy_score(y_test, y_predicted),\n",
    "    \"Precision\": precision_score(y_test, y_predicted),\n",
    "    \"Recall\": recall_score(y_test, y_predicted),\n",
    "    \"F1 Score\": f1_score(y_test, y_predicted),\n",
    "}\n",
    "\n",
    "metrics_df = pd.DataFrame(\n",
    "    metrics_dict.values(), index=metrics_dict.keys(), columns=[\"Value\"]\n",
    ")\n",
    "\n",
    "roc_auc = roc_auc_score(y_test, y_predicted_probs)\n",
    "gini = 2 * roc_auc - 1\n",
    "\n",
    "metrics_df.loc[\"ROC AUC\"] = roc_auc\n",
    "metrics_df.loc[\"Gini\"] = gini\n",
    "\n",
    "metrics_df"
   ]
  },
  {
   "cell_type": "markdown",
   "metadata": {},
   "source": [
    "## **Feature Importance**"
   ]
  },
  {
   "cell_type": "code",
   "execution_count": 29,
   "metadata": {},
   "outputs": [
    {
     "name": "stderr",
     "output_type": "stream",
     "text": [
      "C:\\Users\\mario\\AppData\\Local\\Temp\\ipykernel_12888\\2751919819.py:7: FutureWarning: \n",
      "\n",
      "Passing `palette` without assigning `hue` is deprecated and will be removed in v0.14.0. Assign the `y` variable to `hue` and set `legend=False` for the same effect.\n",
      "\n",
      "  sns.barplot(\n"
     ]
    },
    {
     "data": {
      "text/plain": [
       "<Axes: xlabel='Importance', ylabel='Feature'>"
      ]
     },
     "execution_count": 29,
     "metadata": {},
     "output_type": "execute_result"
    },
    {
     "data": {
      "image/png": "[encoded data removed]",
      "text/plain": [
       "<Figure size 640x480 with 1 Axes>"
      ]
     },
     "metadata": {},
     "output_type": "display_data"
    }
   ],
   "source": [
    "import seaborn as sns\n",
    "\n",
    "coefficients_df = pd.DataFrame(\n",
    "    {\"Feature\": X_train.columns, \"Importance\": best_model.feature_importances_}\n",
    ")\n",
    "\n",
    "sns.barplot(\n",
    "    x=\"Importance\",\n",
    "    y=\"Feature\",\n",
    "    data=coefficients_df.sort_values(\"Importance\", ascending=False),\n",
    "    palette=\"coolwarm\",\n",
    ")"
   ]
  },
  {
   "cell_type": "markdown",
   "metadata": {},
   "source": [
    "## **Model & Prediction Export**"
   ]
  },
  {
   "cell_type": "code",
   "execution_count": 23,
   "metadata": {},
   "outputs": [],
   "source": [
    "os.chdir(MODELS_DIR)\n",
    "# Save model\n",
    "joblib.dump(best_model, \"dtree-model.joblib\")\n",
    "y_predicted_df.to_parquet(\"dtree-y_predicted.parquet\")"
   ]
  }
 ],
 "metadata": {
  "kernelspec": {
   "display_name": "Python 3",
   "language": "python",
   "name": "python3"
  },
  "language_info": {
   "codemirror_mode": {
    "name": "ipython",
    "version": 3
   },
   "file_extension": ".py",
   "mimetype": "text/x-python",
   "name": "python",
   "nbconvert_exporter": "python",
   "pygments_lexer": "ipython3",
   "version": "3.13.0"
  }
 },
 "nbformat": 4,
 "nbformat_minor": 2
}
