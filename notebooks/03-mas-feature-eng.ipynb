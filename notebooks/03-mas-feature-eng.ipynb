{
 "cells": [
  {
   "cell_type": "markdown",
   "metadata": {},
   "source": [
    "## **Imports**"
   ]
  },
  {
   "cell_type": "code",
   "execution_count": 80,
   "metadata": {},
   "outputs": [],
   "source": [
    "import os\n",
    "import numpy as np\n",
    "import pandas as pd\n",
    "\n",
    "from sklearn.preprocessing import (\n",
    "    StandardScaler,\n",
    "    MinMaxScaler,\n",
    "    FunctionTransformer,\n",
    "    OrdinalEncoder,\n",
    "    LabelEncoder,\n",
    "    TargetEncoder,\n",
    ")"
   ]
  },
  {
   "cell_type": "markdown",
   "metadata": {},
   "source": [
    "## **Paths & Global Variables**"
   ]
  },
  {
   "cell_type": "code",
   "execution_count": 81,
   "metadata": {},
   "outputs": [],
   "source": [
    "ROOT_PATH = r\"C:\\Users\\mario\\OneDrive\\Documents\\Work\\Side Hustles\\Kaggle\\titanic\"\n",
    "\n",
    "import sys\n",
    "\n",
    "sys.path.append(ROOT_PATH)\n",
    "\n",
    "from titanic.config import INTERIM_DATA_DIR, PROCESSED_DATA_DIR\n",
    "from titanic.eda.univariate_plots import plot_histogram, plot_barchart, plot_boxplot"
   ]
  },
  {
   "cell_type": "markdown",
   "metadata": {},
   "source": [
    "## **Reading Data**"
   ]
  },
  {
   "cell_type": "code",
   "execution_count": 82,
   "metadata": {},
   "outputs": [
    {
     "data": {
      "text/html": [
       "<div>\n",
       "<style scoped>\n",
       "    .dataframe tbody tr th:only-of-type {\n",
       "        vertical-align: middle;\n",
       "    }\n",
       "\n",
       "    .dataframe tbody tr th {\n",
       "        vertical-align: top;\n",
       "    }\n",
       "\n",
       "    .dataframe thead th {\n",
       "        text-align: right;\n",
       "    }\n",
       "</style>\n",
       "<table border=\"1\" class=\"dataframe\">\n",
       "  <thead>\n",
       "    <tr style=\"text-align: right;\">\n",
       "      <th></th>\n",
       "      <th>siblings_spouses</th>\n",
       "      <th>parents_children</th>\n",
       "      <th>num_rooms</th>\n",
       "      <th>age</th>\n",
       "      <th>fare</th>\n",
       "      <th>survived</th>\n",
       "      <th>passenger_class</th>\n",
       "      <th>sex</th>\n",
       "      <th>embarked</th>\n",
       "      <th>cabin_level_1</th>\n",
       "      <th>full_name</th>\n",
       "      <th>ticket</th>\n",
       "      <th>cabin</th>\n",
       "      <th>surname</th>\n",
       "      <th>title</th>\n",
       "      <th>first_name</th>\n",
       "      <th>cabin_level_2</th>\n",
       "      <th>split</th>\n",
       "    </tr>\n",
       "    <tr>\n",
       "      <th>passenger_id</th>\n",
       "      <th></th>\n",
       "      <th></th>\n",
       "      <th></th>\n",
       "      <th></th>\n",
       "      <th></th>\n",
       "      <th></th>\n",
       "      <th></th>\n",
       "      <th></th>\n",
       "      <th></th>\n",
       "      <th></th>\n",
       "      <th></th>\n",
       "      <th></th>\n",
       "      <th></th>\n",
       "      <th></th>\n",
       "      <th></th>\n",
       "      <th></th>\n",
       "      <th></th>\n",
       "      <th></th>\n",
       "    </tr>\n",
       "  </thead>\n",
       "  <tbody>\n",
       "    <tr>\n",
       "      <th>1</th>\n",
       "      <td>1</td>\n",
       "      <td>0</td>\n",
       "      <td>0</td>\n",
       "      <td>22.0</td>\n",
       "      <td>7.25</td>\n",
       "      <td>False</td>\n",
       "      <td>Lower</td>\n",
       "      <td>male</td>\n",
       "      <td>S</td>\n",
       "      <td>G</td>\n",
       "      <td>Braund, Mr. Owen Harris</td>\n",
       "      <td>A/5 21171</td>\n",
       "      <td>Unknown</td>\n",
       "      <td>Braund</td>\n",
       "      <td>Mr</td>\n",
       "      <td>Owen Harris</td>\n",
       "      <td>0</td>\n",
       "      <td>train</td>\n",
       "    </tr>\n",
       "  </tbody>\n",
       "</table>\n",
       "</div>"
      ],
      "text/plain": [
       "              siblings_spouses  parents_children  num_rooms   age  fare  \\\n",
       "passenger_id                                                              \n",
       "1                            1                 0          0  22.0  7.25   \n",
       "\n",
       "              survived passenger_class   sex embarked cabin_level_1  \\\n",
       "passenger_id                                                          \n",
       "1                False           Lower  male        S             G   \n",
       "\n",
       "                            full_name     ticket    cabin surname title  \\\n",
       "passenger_id                                                              \n",
       "1             Braund, Mr. Owen Harris  A/5 21171  Unknown  Braund    Mr   \n",
       "\n",
       "               first_name cabin_level_2  split  \n",
       "passenger_id                                    \n",
       "1             Owen Harris             0  train  "
      ]
     },
     "execution_count": 82,
     "metadata": {},
     "output_type": "execute_result"
    }
   ],
   "source": [
    "os.chdir(INTERIM_DATA_DIR)\n",
    "interim_df = pd.read_parquet(\"titanic_cleaned.parquet\")\n",
    "interim_df.head(1)"
   ]
  },
  {
   "cell_type": "code",
   "execution_count": 83,
   "metadata": {},
   "outputs": [
    {
     "name": "stdout",
     "output_type": "stream",
     "text": [
      "<class 'pandas.core.frame.DataFrame'>\n",
      "Index: 1307 entries, 1 to 1309\n",
      "Data columns (total 18 columns):\n",
      " #   Column            Non-Null Count  Dtype   \n",
      "---  ------            --------------  -----   \n",
      " 0   siblings_spouses  1307 non-null   int64   \n",
      " 1   parents_children  1307 non-null   int64   \n",
      " 2   num_rooms         1307 non-null   int64   \n",
      " 3   age               1307 non-null   float64 \n",
      " 4   fare              1307 non-null   float64 \n",
      " 5   survived          1307 non-null   bool    \n",
      " 6   passenger_class   1307 non-null   category\n",
      " 7   sex               1307 non-null   category\n",
      " 8   embarked          1307 non-null   category\n",
      " 9   cabin_level_1     1307 non-null   category\n",
      " 10  full_name         1307 non-null   string  \n",
      " 11  ticket            1307 non-null   string  \n",
      " 12  cabin             1307 non-null   string  \n",
      " 13  surname           1307 non-null   string  \n",
      " 14  title             1307 non-null   string  \n",
      " 15  first_name        1307 non-null   string  \n",
      " 16  cabin_level_2     1307 non-null   string  \n",
      " 17  split             1307 non-null   object  \n",
      "dtypes: bool(1), category(4), float64(2), int64(3), object(1), string(7)\n",
      "memory usage: 150.1+ KB\n"
     ]
    }
   ],
   "source": [
    "interim_df.info()"
   ]
  },
  {
   "cell_type": "markdown",
   "metadata": {},
   "source": [
    "# **1. Feature Transformation Methods**"
   ]
  },
  {
   "cell_type": "markdown",
   "metadata": {},
   "source": [
    "## **Numerical Variables**"
   ]
  },
  {
   "cell_type": "markdown",
   "metadata": {},
   "source": [
    "### **Standardising**"
   ]
  },
  {
   "cell_type": "code",
   "execution_count": 84,
   "metadata": {},
   "outputs": [],
   "source": [
    "scale_vars_list = [\"age\"]\n",
    "\n",
    "for var in scale_vars_list:\n",
    "    scaler = StandardScaler()\n",
    "    interim_df[f\"{var}_scaled\"] = scaler.fit_transform(interim_df[[var]])"
   ]
  },
  {
   "cell_type": "code",
   "execution_count": 85,
   "metadata": {},
   "outputs": [
    {
     "data": {
      "image/png": "[encoded data removed]",
      "text/plain": [
       "<Figure size 640x480 with 1 Axes>"
      ]
     },
     "metadata": {},
     "output_type": "display_data"
    },
    {
     "data": {
      "text/plain": [
       "<Figure size 1000x500 with 0 Axes>"
      ]
     },
     "metadata": {},
     "output_type": "display_data"
    }
   ],
   "source": [
    "plot_histogram(interim_df, \"age_scaled\", transformed=True)"
   ]
  },
  {
   "cell_type": "markdown",
   "metadata": {},
   "source": [
    "### **Min-Max Normalisation**"
   ]
  },
  {
   "cell_type": "code",
   "execution_count": 86,
   "metadata": {},
   "outputs": [],
   "source": [
    "minmax_vars_list = [\"age\"]\n",
    "\n",
    "for var in minmax_vars_list:\n",
    "    scaler = MinMaxScaler()\n",
    "    interim_df[f\"{var}_min_max\"] = scaler.fit_transform(interim_df[[var]])"
   ]
  },
  {
   "cell_type": "code",
   "execution_count": 87,
   "metadata": {},
   "outputs": [
    {
     "data": {
      "image/png": "[encoded data removed]",
      "text/plain": [
       "<Figure size 640x480 with 1 Axes>"
      ]
     },
     "metadata": {},
     "output_type": "display_data"
    },
    {
     "data": {
      "text/plain": [
       "<Figure size 1000x500 with 0 Axes>"
      ]
     },
     "metadata": {},
     "output_type": "display_data"
    }
   ],
   "source": [
    "plot_histogram(interim_df, \"age_min_max\", transformed=True)"
   ]
  },
  {
   "cell_type": "markdown",
   "metadata": {},
   "source": [
    "### **Binning**"
   ]
  },
  {
   "cell_type": "code",
   "execution_count": 88,
   "metadata": {},
   "outputs": [],
   "source": [
    "# Define the bins and labels\n",
    "bins = [0, 12, 18, 35, 60, 100]\n",
    "labels = [\"Child\", \"Teen\", \"Young Adult\", \"Adult\", \"Senior\"]\n",
    "\n",
    "# Create a new column 'age_group' with the binned age data\n",
    "interim_df[\"age_group\"] = pd.cut(\n",
    "    interim_df[\"age\"], bins=bins, labels=labels, right=False\n",
    ")"
   ]
  },
  {
   "cell_type": "code",
   "execution_count": 89,
   "metadata": {},
   "outputs": [
    {
     "data": {
      "text/plain": [
       "['Young Adult', 'Adult', 'Child', 'Teen', 'Senior']\n",
       "Categories (5, object): ['Child' < 'Teen' < 'Young Adult' < 'Adult' < 'Senior']"
      ]
     },
     "execution_count": 89,
     "metadata": {},
     "output_type": "execute_result"
    }
   ],
   "source": [
    "interim_df[\"age_group\"] = pd.Categorical(\n",
    "    interim_df[\"age_group\"], categories=labels, ordered=True\n",
    ")\n",
    "interim_df[\"age_group\"] = interim_df[\"age_group\"].cat.rename_categories(\n",
    "    [\"Child\", \"Teen\", \"Young Adult\", \"Adult\", \"Senior\"]\n",
    ")\n",
    "interim_df[\"age_group\"].unique()"
   ]
  },
  {
   "cell_type": "code",
   "execution_count": 90,
   "metadata": {},
   "outputs": [
    {
     "data": {
      "image/png": "[encoded data removed]",
      "text/plain": [
       "<Figure size 640x480 with 1 Axes>"
      ]
     },
     "metadata": {},
     "output_type": "display_data"
    },
    {
     "data": {
      "text/plain": [
       "<Figure size 1000x500 with 0 Axes>"
      ]
     },
     "metadata": {},
     "output_type": "display_data"
    }
   ],
   "source": [
    "plot_barchart(interim_df, \"age_group\")"
   ]
  },
  {
   "cell_type": "markdown",
   "metadata": {},
   "source": [
    "### **Natural Log Transformation**"
   ]
  },
  {
   "cell_type": "code",
   "execution_count": 91,
   "metadata": {},
   "outputs": [
    {
     "name": "stderr",
     "output_type": "stream",
     "text": [
      "c:\\Users\\mario\\AppData\\Local\\Programs\\Python\\Python313\\Lib\\site-packages\\sklearn\\utils\\validation.py:2732: UserWarning: X has feature names, but FunctionTransformer was fitted without feature names\n",
      "  warnings.warn(\n"
     ]
    }
   ],
   "source": [
    "log_vars_list = [\"fare\"]\n",
    "\n",
    "for var in log_vars_list:\n",
    "    log_transformer = FunctionTransformer(np.log1p, validate=True)\n",
    "    interim_df[f\"{var}_log\"] = log_transformer.transform(interim_df[[var]])"
   ]
  },
  {
   "cell_type": "code",
   "execution_count": 92,
   "metadata": {},
   "outputs": [
    {
     "data": {
      "image/png": "[encoded data removed]",
      "text/plain": [
       "<Figure size 640x480 with 1 Axes>"
      ]
     },
     "metadata": {},
     "output_type": "display_data"
    },
    {
     "data": {
      "text/plain": [
       "<Figure size 1000x500 with 0 Axes>"
      ]
     },
     "metadata": {},
     "output_type": "display_data"
    }
   ],
   "source": [
    "plot_histogram(interim_df, \"fare_log\", transformed=True)"
   ]
  },
  {
   "cell_type": "markdown",
   "metadata": {},
   "source": [
    "## **Ordinal Variables**"
   ]
  },
  {
   "cell_type": "markdown",
   "metadata": {},
   "source": [
    "### **Ordinal Encoder**"
   ]
  },
  {
   "cell_type": "code",
   "execution_count": 93,
   "metadata": {},
   "outputs": [
    {
     "name": "stdout",
     "output_type": "stream",
     "text": [
      "[0 1 2 3 4]\n",
      "[0 1 2]\n"
     ]
    }
   ],
   "source": [
    "ordinal_features_dict = {\n",
    "    \"age_group\": interim_df[\"age_group\"].unique(),\n",
    "    \"passenger_class\": interim_df[\"passenger_class\"].unique(),\n",
    "}\n",
    "\n",
    "for feature, labels in ordinal_features_dict.items():\n",
    "    encoder = OrdinalEncoder(categories=[labels])\n",
    "    interim_df[f\"{feature}_ord\"] = encoder.fit_transform(interim_df[[feature]])\n",
    "    interim_df[f\"{feature}_ord\"] = interim_df[f\"{feature}_ord\"].astype(\"int\")\n",
    "    print(interim_df[f\"{feature}_ord\"].unique())"
   ]
  },
  {
   "cell_type": "markdown",
   "metadata": {},
   "source": [
    "## **Nominal Variables**"
   ]
  },
  {
   "cell_type": "markdown",
   "metadata": {},
   "source": [
    "### **Label Encoder**"
   ]
  },
  {
   "cell_type": "code",
   "execution_count": 94,
   "metadata": {},
   "outputs": [],
   "source": [
    "nom_vars_list = [\n",
    "    \"full_name\",\n",
    "    \"surname\",\n",
    "    \"title\",\n",
    "    \"first_name\",\n",
    "    \"cabin\",\n",
    "    \"ticket\",\n",
    "    \"cabin_level_2\",\n",
    "]\n",
    "\n",
    "nom_cat_vars_list = [\n",
    "    \"sex\",\n",
    "    \"embarked\",\n",
    "    \"cabin_level_1\",\n",
    "]\n",
    "\n",
    "for feature in nom_vars_list + nom_cat_vars_list:\n",
    "    encoder = LabelEncoder()\n",
    "    interim_df[f\"{feature}_lcode\"] = encoder.fit_transform(interim_df[feature])"
   ]
  },
  {
   "cell_type": "markdown",
   "metadata": {},
   "source": [
    "### **One-Hot Encoding (low cardinality)**"
   ]
  },
  {
   "cell_type": "code",
   "execution_count": 95,
   "metadata": {},
   "outputs": [
    {
     "name": "stdout",
     "output_type": "stream",
     "text": [
      "['male', 'female']\n",
      "Categories (2, object): ['female', 'male']\n",
      "['S', 'C', 'Q']\n",
      "Categories (3, object): ['C', 'Q', 'S']\n",
      "['G', 'C', 'F', 'E', 'D', 'A', 'B']\n",
      "Categories (7, object): ['A', 'B', 'C', 'D', 'E', 'F', 'G']\n"
     ]
    }
   ],
   "source": [
    "for var in nom_cat_vars_list:\n",
    "    series = interim_df[var]\n",
    "    interim_df = pd.get_dummies(data=interim_df, columns=[var], drop_first=True)\n",
    "    interim_df[var] = series\n",
    "    print(interim_df[var].unique())"
   ]
  },
  {
   "cell_type": "markdown",
   "metadata": {},
   "source": [
    "### **Target Encoding (high cardinality)**"
   ]
  },
  {
   "cell_type": "code",
   "execution_count": 96,
   "metadata": {},
   "outputs": [],
   "source": [
    "for feature in nom_vars_list:\n",
    "    target_encoder = TargetEncoder()\n",
    "    interim_df[f\"{feature}_target\"] = target_encoder.fit_transform(\n",
    "        interim_df[[feature]], interim_df[\"survived\"]\n",
    "    )"
   ]
  },
  {
   "cell_type": "code",
   "execution_count": 97,
   "metadata": {},
   "outputs": [
    {
     "name": "stdout",
     "output_type": "stream",
     "text": [
      "<class 'pandas.core.frame.DataFrame'>\n",
      "Index: 1307 entries, 1 to 1309\n",
      "Data columns (total 50 columns):\n",
      " #   Column                Non-Null Count  Dtype   \n",
      "---  ------                --------------  -----   \n",
      " 0   siblings_spouses      1307 non-null   int64   \n",
      " 1   parents_children      1307 non-null   int64   \n",
      " 2   num_rooms             1307 non-null   int64   \n",
      " 3   age                   1307 non-null   float64 \n",
      " 4   fare                  1307 non-null   float64 \n",
      " 5   survived              1307 non-null   bool    \n",
      " 6   passenger_class       1307 non-null   category\n",
      " 7   full_name             1307 non-null   string  \n",
      " 8   ticket                1307 non-null   string  \n",
      " 9   cabin                 1307 non-null   string  \n",
      " 10  surname               1307 non-null   string  \n",
      " 11  title                 1307 non-null   string  \n",
      " 12  first_name            1307 non-null   string  \n",
      " 13  cabin_level_2         1307 non-null   string  \n",
      " 14  split                 1307 non-null   object  \n",
      " 15  age_scaled            1307 non-null   float64 \n",
      " 16  age_min_max           1307 non-null   float64 \n",
      " 17  age_group             1307 non-null   category\n",
      " 18  fare_log              1307 non-null   float64 \n",
      " 19  age_group_ord         1307 non-null   int64   \n",
      " 20  passenger_class_ord   1307 non-null   int64   \n",
      " 21  full_name_lcode       1307 non-null   int64   \n",
      " 22  surname_lcode         1307 non-null   int64   \n",
      " 23  title_lcode           1307 non-null   int64   \n",
      " 24  first_name_lcode      1307 non-null   int64   \n",
      " 25  cabin_lcode           1307 non-null   int64   \n",
      " 26  ticket_lcode          1307 non-null   int64   \n",
      " 27  cabin_level_2_lcode   1307 non-null   int64   \n",
      " 28  sex_lcode             1307 non-null   int64   \n",
      " 29  embarked_lcode        1307 non-null   int64   \n",
      " 30  cabin_level_1_lcode   1307 non-null   int64   \n",
      " 31  sex_male              1307 non-null   bool    \n",
      " 32  sex                   1307 non-null   category\n",
      " 33  embarked_Q            1307 non-null   bool    \n",
      " 34  embarked_S            1307 non-null   bool    \n",
      " 35  embarked              1307 non-null   category\n",
      " 36  cabin_level_1_B       1307 non-null   bool    \n",
      " 37  cabin_level_1_C       1307 non-null   bool    \n",
      " 38  cabin_level_1_D       1307 non-null   bool    \n",
      " 39  cabin_level_1_E       1307 non-null   bool    \n",
      " 40  cabin_level_1_F       1307 non-null   bool    \n",
      " 41  cabin_level_1_G       1307 non-null   bool    \n",
      " 42  cabin_level_1         1307 non-null   category\n",
      " 43  full_name_target      1307 non-null   float64 \n",
      " 44  surname_target        1307 non-null   float64 \n",
      " 45  title_target          1307 non-null   float64 \n",
      " 46  first_name_target     1307 non-null   float64 \n",
      " 47  cabin_target          1307 non-null   float64 \n",
      " 48  ticket_target         1307 non-null   float64 \n",
      " 49  cabin_level_2_target  1307 non-null   float64 \n",
      "dtypes: bool(10), category(5), float64(12), int64(15), object(1), string(7)\n",
      "memory usage: 387.7+ KB\n"
     ]
    }
   ],
   "source": [
    "interim_df.info()"
   ]
  },
  {
   "cell_type": "markdown",
   "metadata": {},
   "source": [
    "## **Date Variables**"
   ]
  },
  {
   "cell_type": "markdown",
   "metadata": {},
   "source": [
    "### **DateTime Encoding**"
   ]
  },
  {
   "cell_type": "markdown",
   "metadata": {},
   "source": [
    "# **2. Dimensionality Reduction Methods** 🔴"
   ]
  },
  {
   "cell_type": "markdown",
   "metadata": {},
   "source": [
    "# **3. Feature Selection Methods** 🔴"
   ]
  },
  {
   "cell_type": "markdown",
   "metadata": {},
   "source": [
    "## **Filter Methods**"
   ]
  },
  {
   "cell_type": "markdown",
   "metadata": {},
   "source": [
    "## **Wrapper Methods**"
   ]
  },
  {
   "cell_type": "markdown",
   "metadata": {},
   "source": [
    "## **Embedded Methods**"
   ]
  },
  {
   "cell_type": "code",
   "execution_count": 98,
   "metadata": {},
   "outputs": [],
   "source": [
    "os.chdir(PROCESSED_DATA_DIR)\n",
    "interim_df.to_csv(\"titanic_processed.csv\")\n",
    "interim_df.to_parquet(\"titanic_processed.parquet\")"
   ]
  }
 ],
 "metadata": {
  "kernelspec": {
   "display_name": "Python 3",
   "language": "python",
   "name": "python3"
  },
  "language_info": {
   "codemirror_mode": {
    "name": "ipython",
    "version": 3
   },
   "file_extension": ".py",
   "mimetype": "text/x-python",
   "name": "python",
   "nbconvert_exporter": "python",
   "pygments_lexer": "ipython3",
   "version": "3.13.0"
  }
 },
 "nbformat": 4,
 "nbformat_minor": 2
}
