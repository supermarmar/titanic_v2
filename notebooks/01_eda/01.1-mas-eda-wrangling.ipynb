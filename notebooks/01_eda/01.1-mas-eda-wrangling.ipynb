{
 "cells": [
  {
   "cell_type": "markdown",
   "metadata": {},
   "source": [
    "# **Imports**"
   ]
  },
  {
   "cell_type": "code",
   "execution_count": 1,
   "metadata": {},
   "outputs": [],
   "source": [
    "import os\n",
    "import numpy as np\n",
    "import pandas as pd\n",
    "\n",
    "# from sklearn.experimental import enable_iterative_imputer\n",
    "# from sklearn.impute import IterativeImputer"
   ]
  },
  {
   "cell_type": "markdown",
   "metadata": {},
   "source": [
    "# **Paths & Global Variables**"
   ]
  },
  {
   "cell_type": "code",
   "execution_count": null,
   "metadata": {},
   "outputs": [
    {
     "name": "stderr",
     "output_type": "stream",
     "text": [
      "\u001b[32m2025-02-22 22:58:09.051\u001b[0m | \u001b[1mINFO    \u001b[0m | \u001b[36mtitanic.config\u001b[0m:\u001b[36m<module>\u001b[0m:\u001b[36m9\u001b[0m - \u001b[1mPROJ_ROOT path is: C:\\Users\\mario\\OneDrive\\Documents\\Work\\Side Hustles\\Kaggle\\titanic\u001b[0m\n"
     ]
    }
   ],
   "source": [
    "ROOT_PATH = r\"C:\\Users\\mario\\OneDrive\\Documents\\Work\\Side Hustles\\Kaggle\\titanic\"\n",
    "\n",
    "import sys\n",
    "\n",
    "sys.path.append(ROOT_PATH)\n",
    "\n",
    "from titanic.config import RAW_DATA_DIR, INTERIM_DATA_DIR"
   ]
  },
  {
   "cell_type": "markdown",
   "metadata": {},
   "source": [
    "# **Reading Data**"
   ]
  },
  {
   "cell_type": "code",
   "execution_count": 3,
   "metadata": {},
   "outputs": [],
   "source": [
    "os.chdir(RAW_DATA_DIR)\n",
    "train_df = pd.read_csv(\"train.csv\")\n",
    "test_df = pd.read_csv(\"test.csv\")"
   ]
  },
  {
   "cell_type": "code",
   "execution_count": 4,
   "metadata": {},
   "outputs": [],
   "source": [
    "train_df[\"split\"] = \"train\"\n",
    "test_df[\"split\"] = \"test\"\n",
    "test_df[\"Survived\"] = 0\n",
    "\n",
    "raw_df = pd.concat([train_df, test_df], axis=0)"
   ]
  },
  {
   "cell_type": "markdown",
   "metadata": {},
   "source": [
    "# **Data Wrangling**"
   ]
  },
  {
   "cell_type": "markdown",
   "metadata": {},
   "source": [
    "## **Data Diagnosis**"
   ]
  },
  {
   "cell_type": "code",
   "execution_count": 5,
   "metadata": {},
   "outputs": [
    {
     "data": {
      "text/html": [
       "<div>\n",
       "<style scoped>\n",
       "    .dataframe tbody tr th:only-of-type {\n",
       "        vertical-align: middle;\n",
       "    }\n",
       "\n",
       "    .dataframe tbody tr th {\n",
       "        vertical-align: top;\n",
       "    }\n",
       "\n",
       "    .dataframe thead th {\n",
       "        text-align: right;\n",
       "    }\n",
       "</style>\n",
       "<table border=\"1\" class=\"dataframe\">\n",
       "  <thead>\n",
       "    <tr style=\"text-align: right;\">\n",
       "      <th></th>\n",
       "      <th>PassengerId</th>\n",
       "      <th>Survived</th>\n",
       "      <th>Pclass</th>\n",
       "      <th>Name</th>\n",
       "      <th>Sex</th>\n",
       "      <th>Age</th>\n",
       "      <th>SibSp</th>\n",
       "      <th>Parch</th>\n",
       "      <th>Ticket</th>\n",
       "      <th>Fare</th>\n",
       "      <th>Cabin</th>\n",
       "      <th>Embarked</th>\n",
       "      <th>split</th>\n",
       "    </tr>\n",
       "  </thead>\n",
       "  <tbody>\n",
       "    <tr>\n",
       "      <th>0</th>\n",
       "      <td>1</td>\n",
       "      <td>0</td>\n",
       "      <td>3</td>\n",
       "      <td>Braund, Mr. Owen Harris</td>\n",
       "      <td>male</td>\n",
       "      <td>22.0</td>\n",
       "      <td>1</td>\n",
       "      <td>0</td>\n",
       "      <td>A/5 21171</td>\n",
       "      <td>7.2500</td>\n",
       "      <td>NaN</td>\n",
       "      <td>S</td>\n",
       "      <td>train</td>\n",
       "    </tr>\n",
       "    <tr>\n",
       "      <th>1</th>\n",
       "      <td>2</td>\n",
       "      <td>1</td>\n",
       "      <td>1</td>\n",
       "      <td>Cumings, Mrs. John Bradley (Florence Briggs Th...</td>\n",
       "      <td>female</td>\n",
       "      <td>38.0</td>\n",
       "      <td>1</td>\n",
       "      <td>0</td>\n",
       "      <td>PC 17599</td>\n",
       "      <td>71.2833</td>\n",
       "      <td>C85</td>\n",
       "      <td>C</td>\n",
       "      <td>train</td>\n",
       "    </tr>\n",
       "    <tr>\n",
       "      <th>2</th>\n",
       "      <td>3</td>\n",
       "      <td>1</td>\n",
       "      <td>3</td>\n",
       "      <td>Heikkinen, Miss. Laina</td>\n",
       "      <td>female</td>\n",
       "      <td>26.0</td>\n",
       "      <td>0</td>\n",
       "      <td>0</td>\n",
       "      <td>STON/O2. 3101282</td>\n",
       "      <td>7.9250</td>\n",
       "      <td>NaN</td>\n",
       "      <td>S</td>\n",
       "      <td>train</td>\n",
       "    </tr>\n",
       "    <tr>\n",
       "      <th>3</th>\n",
       "      <td>4</td>\n",
       "      <td>1</td>\n",
       "      <td>1</td>\n",
       "      <td>Futrelle, Mrs. Jacques Heath (Lily May Peel)</td>\n",
       "      <td>female</td>\n",
       "      <td>35.0</td>\n",
       "      <td>1</td>\n",
       "      <td>0</td>\n",
       "      <td>113803</td>\n",
       "      <td>53.1000</td>\n",
       "      <td>C123</td>\n",
       "      <td>S</td>\n",
       "      <td>train</td>\n",
       "    </tr>\n",
       "    <tr>\n",
       "      <th>4</th>\n",
       "      <td>5</td>\n",
       "      <td>0</td>\n",
       "      <td>3</td>\n",
       "      <td>Allen, Mr. William Henry</td>\n",
       "      <td>male</td>\n",
       "      <td>35.0</td>\n",
       "      <td>0</td>\n",
       "      <td>0</td>\n",
       "      <td>373450</td>\n",
       "      <td>8.0500</td>\n",
       "      <td>NaN</td>\n",
       "      <td>S</td>\n",
       "      <td>train</td>\n",
       "    </tr>\n",
       "  </tbody>\n",
       "</table>\n",
       "</div>"
      ],
      "text/plain": [
       "   PassengerId  Survived  Pclass  \\\n",
       "0            1         0       3   \n",
       "1            2         1       1   \n",
       "2            3         1       3   \n",
       "3            4         1       1   \n",
       "4            5         0       3   \n",
       "\n",
       "                                                Name     Sex   Age  SibSp  \\\n",
       "0                            Braund, Mr. Owen Harris    male  22.0      1   \n",
       "1  Cumings, Mrs. John Bradley (Florence Briggs Th...  female  38.0      1   \n",
       "2                             Heikkinen, Miss. Laina  female  26.0      0   \n",
       "3       Futrelle, Mrs. Jacques Heath (Lily May Peel)  female  35.0      1   \n",
       "4                           Allen, Mr. William Henry    male  35.0      0   \n",
       "\n",
       "   Parch            Ticket     Fare Cabin Embarked  split  \n",
       "0      0         A/5 21171   7.2500   NaN        S  train  \n",
       "1      0          PC 17599  71.2833   C85        C  train  \n",
       "2      0  STON/O2. 3101282   7.9250   NaN        S  train  \n",
       "3      0            113803  53.1000  C123        S  train  \n",
       "4      0            373450   8.0500   NaN        S  train  "
      ]
     },
     "execution_count": 5,
     "metadata": {},
     "output_type": "execute_result"
    }
   ],
   "source": [
    "raw_df.head()"
   ]
  },
  {
   "cell_type": "code",
   "execution_count": 6,
   "metadata": {},
   "outputs": [
    {
     "data": {
      "text/plain": [
       "(1309, 13)"
      ]
     },
     "execution_count": 6,
     "metadata": {},
     "output_type": "execute_result"
    }
   ],
   "source": [
    "raw_df.shape"
   ]
  },
  {
   "cell_type": "code",
   "execution_count": 7,
   "metadata": {},
   "outputs": [
    {
     "data": {
      "text/plain": [
       "Index(['PassengerId', 'Survived', 'Pclass', 'Name', 'Sex', 'Age', 'SibSp',\n",
       "       'Parch', 'Ticket', 'Fare', 'Cabin', 'Embarked', 'split'],\n",
       "      dtype='object')"
      ]
     },
     "execution_count": 7,
     "metadata": {},
     "output_type": "execute_result"
    }
   ],
   "source": [
    "raw_df.columns"
   ]
  },
  {
   "cell_type": "markdown",
   "metadata": {},
   "source": [
    "## **Column Name Consistency**"
   ]
  },
  {
   "cell_type": "code",
   "execution_count": 8,
   "metadata": {},
   "outputs": [],
   "source": [
    "raw_df.columns = map(str.lower, raw_df.columns)"
   ]
  },
  {
   "cell_type": "code",
   "execution_count": 9,
   "metadata": {},
   "outputs": [],
   "source": [
    "# axis=1` refers to the columns, `axis=0` would refer to the rows\n",
    "column_new_names_dict = {\n",
    "    \"passengerid\": \"passenger_id\",\n",
    "    \"pclass\": \"passenger_class\",\n",
    "    \"name\": \"full_name\",\n",
    "    \"sibsp\": \"siblings_spouses\",\n",
    "    \"parch\": \"parents_children\",\n",
    "}\n",
    "\n",
    "raw_df = raw_df.rename(column_new_names_dict, axis=1)"
   ]
  },
  {
   "cell_type": "code",
   "execution_count": 10,
   "metadata": {},
   "outputs": [
    {
     "data": {
      "text/plain": [
       "Index(['passenger_id', 'survived', 'passenger_class', 'full_name', 'sex',\n",
       "       'age', 'siblings_spouses', 'parents_children', 'ticket', 'fare',\n",
       "       'cabin', 'embarked', 'split'],\n",
       "      dtype='object')"
      ]
     },
     "execution_count": 10,
     "metadata": {},
     "output_type": "execute_result"
    }
   ],
   "source": [
    "raw_df.columns"
   ]
  },
  {
   "cell_type": "markdown",
   "metadata": {},
   "source": [
    "## **Column Profiling**"
   ]
  },
  {
   "cell_type": "code",
   "execution_count": 11,
   "metadata": {},
   "outputs": [
    {
     "data": {
      "text/plain": [
       "passenger_id          int64\n",
       "survived              int64\n",
       "passenger_class       int64\n",
       "full_name            object\n",
       "sex                  object\n",
       "age                 float64\n",
       "siblings_spouses      int64\n",
       "parents_children      int64\n",
       "ticket               object\n",
       "fare                float64\n",
       "cabin                object\n",
       "embarked             object\n",
       "split                object\n",
       "dtype: object"
      ]
     },
     "execution_count": 11,
     "metadata": {},
     "output_type": "execute_result"
    }
   ],
   "source": [
    "raw_df.dtypes"
   ]
  },
  {
   "cell_type": "code",
   "execution_count": 12,
   "metadata": {},
   "outputs": [
    {
     "data": {
      "text/plain": [
       "passenger_id        1309\n",
       "survived               2\n",
       "passenger_class        3\n",
       "full_name           1307\n",
       "sex                    2\n",
       "age                   98\n",
       "siblings_spouses       7\n",
       "parents_children       8\n",
       "ticket               929\n",
       "fare                 281\n",
       "cabin                186\n",
       "embarked               3\n",
       "split                  2\n",
       "dtype: int64"
      ]
     },
     "execution_count": 12,
     "metadata": {},
     "output_type": "execute_result"
    }
   ],
   "source": [
    "raw_df.nunique()"
   ]
  },
  {
   "cell_type": "code",
   "execution_count": 13,
   "metadata": {},
   "outputs": [
    {
     "data": {
      "text/plain": [
       "passenger_id           0\n",
       "survived               0\n",
       "passenger_class        0\n",
       "full_name              0\n",
       "sex                    0\n",
       "age                  263\n",
       "siblings_spouses       0\n",
       "parents_children       0\n",
       "ticket                 0\n",
       "fare                   1\n",
       "cabin               1014\n",
       "embarked               2\n",
       "split                  0\n",
       "dtype: int64"
      ]
     },
     "execution_count": 13,
     "metadata": {},
     "output_type": "execute_result"
    }
   ],
   "source": [
    "raw_df.isna().sum()"
   ]
  },
  {
   "cell_type": "code",
   "execution_count": 14,
   "metadata": {},
   "outputs": [
    {
     "name": "stdout",
     "output_type": "stream",
     "text": [
      "<class 'pandas.core.frame.DataFrame'>\n",
      "Index: 1309 entries, 0 to 417\n",
      "Data columns (total 13 columns):\n",
      " #   Column            Non-Null Count  Dtype  \n",
      "---  ------            --------------  -----  \n",
      " 0   passenger_id      1309 non-null   int64  \n",
      " 1   survived          1309 non-null   int64  \n",
      " 2   passenger_class   1309 non-null   int64  \n",
      " 3   full_name         1309 non-null   object \n",
      " 4   sex               1309 non-null   object \n",
      " 5   age               1046 non-null   float64\n",
      " 6   siblings_spouses  1309 non-null   int64  \n",
      " 7   parents_children  1309 non-null   int64  \n",
      " 8   ticket            1309 non-null   object \n",
      " 9   fare              1308 non-null   float64\n",
      " 10  cabin             295 non-null    object \n",
      " 11  embarked          1307 non-null   object \n",
      " 12  split             1309 non-null   object \n",
      "dtypes: float64(2), int64(5), object(6)\n",
      "memory usage: 143.2+ KB\n"
     ]
    }
   ],
   "source": [
    "raw_df.info()"
   ]
  },
  {
   "cell_type": "markdown",
   "metadata": {},
   "source": [
    "## **Data Types**"
   ]
  },
  {
   "cell_type": "markdown",
   "metadata": {},
   "source": [
    "### **Numerical Variables**"
   ]
  },
  {
   "cell_type": "markdown",
   "metadata": {},
   "source": [
    "#### **Discrete Variables**"
   ]
  },
  {
   "cell_type": "code",
   "execution_count": 15,
   "metadata": {},
   "outputs": [
    {
     "name": "stdout",
     "output_type": "stream",
     "text": [
      "1309\n",
      "[   1    2    3 ... 1307 1308 1309]\n"
     ]
    }
   ],
   "source": [
    "print(raw_df.passenger_id.nunique())\n",
    "print(raw_df.passenger_id.unique())"
   ]
  },
  {
   "cell_type": "code",
   "execution_count": 16,
   "metadata": {},
   "outputs": [
    {
     "name": "stdout",
     "output_type": "stream",
     "text": [
      "98\n",
      "[22.   38.   26.   35.     nan 54.    2.   27.   14.    4.   58.   20.\n",
      " 39.   55.   31.   34.   15.   28.    8.   19.   40.   66.   42.   21.\n",
      " 18.    3.    7.   49.   29.   65.   28.5   5.   11.   45.   17.   32.\n",
      " 16.   25.    0.83 30.   33.   23.   24.   46.   59.   71.   37.   47.\n",
      " 14.5  70.5  32.5  12.    9.   36.5  51.   55.5  40.5  44.    1.   61.\n",
      " 56.   50.   36.   45.5  20.5  62.   41.   52.   63.   23.5   0.92 43.\n",
      " 60.   10.   64.   13.   48.    0.75 53.   57.   80.   70.   24.5   6.\n",
      "  0.67 30.5   0.42 34.5  74.   22.5  18.5  67.   76.   26.5  60.5  11.5\n",
      "  0.33  0.17 38.5 ]\n"
     ]
    }
   ],
   "source": [
    "print(raw_df.age.nunique())\n",
    "print(raw_df.age.unique())"
   ]
  },
  {
   "cell_type": "code",
   "execution_count": 17,
   "metadata": {},
   "outputs": [
    {
     "name": "stdout",
     "output_type": "stream",
     "text": [
      "7\n",
      "[1 0 3 4 2 5 8]\n"
     ]
    }
   ],
   "source": [
    "print(raw_df.siblings_spouses.nunique())\n",
    "print(raw_df.siblings_spouses.unique())"
   ]
  },
  {
   "cell_type": "code",
   "execution_count": 18,
   "metadata": {},
   "outputs": [
    {
     "name": "stdout",
     "output_type": "stream",
     "text": [
      "8\n",
      "[0 1 2 5 3 4 6 9]\n"
     ]
    }
   ],
   "source": [
    "print(raw_df.parents_children.nunique())\n",
    "print(raw_df.parents_children.unique())"
   ]
  },
  {
   "cell_type": "markdown",
   "metadata": {},
   "source": [
    "#### **Continuous Variables**"
   ]
  },
  {
   "cell_type": "code",
   "execution_count": 19,
   "metadata": {},
   "outputs": [
    {
     "name": "stdout",
     "output_type": "stream",
     "text": [
      "281\n",
      "[  7.25    71.2833   7.925   53.1      8.05     8.4583  51.8625  21.075\n",
      "  11.1333  30.0708  16.7     26.55    31.275    7.8542  16.      29.125\n",
      "  13.      18.       7.225   26.       8.0292  35.5     31.3875 263.\n",
      "   7.8792   7.8958  27.7208 146.5208   7.75    10.5     82.1708  52.\n",
      "   7.2292  11.2417   9.475   21.      41.5792  15.5     21.6792  17.8\n",
      "  39.6875   7.8     76.7292  61.9792  27.75    46.9     80.      83.475\n",
      "  27.9     15.2458   8.1583   8.6625  73.5     14.4542  56.4958   7.65\n",
      "  29.      12.475    9.       9.5      7.7875  47.1     15.85    34.375\n",
      "  61.175   20.575   34.6542  63.3583  23.      77.2875   8.6542   7.775\n",
      "  24.15     9.825   14.4583 247.5208   7.1417  22.3583   6.975    7.05\n",
      "  14.5     15.0458  26.2833   9.2167  79.2      6.75    11.5     36.75\n",
      "   7.7958  12.525   66.6      7.3125  61.3792   7.7333  69.55    16.1\n",
      "  15.75    20.525   55.      25.925   33.5     30.6958  25.4667  28.7125\n",
      "   0.      15.05    39.      22.025   50.       8.4042   6.4958  10.4625\n",
      "  18.7875  31.     113.275   27.      76.2917  90.       9.35    13.5\n",
      "   7.55    26.25    12.275    7.125   52.5542  20.2125  86.5    512.3292\n",
      "  79.65   153.4625 135.6333  19.5     29.7     77.9583  20.25    78.85\n",
      "  91.0792  12.875    8.85   151.55    30.5     23.25    12.35   110.8833\n",
      " 108.9     24.      56.9292  83.1583 262.375   14.     164.8667 134.5\n",
      "   6.2375  57.9792  28.5    133.65    15.9      9.225   35.      75.25\n",
      "  69.3     55.4417 211.5      4.0125 227.525   15.7417   7.7292  12.\n",
      " 120.      12.65    18.75     6.8583  32.5      7.875   14.4     55.9\n",
      "   8.1125  81.8583  19.2583  19.9667  89.1042  38.5      7.725   13.7917\n",
      "   9.8375   7.0458   7.5208  12.2875   9.5875  49.5042  78.2667  15.1\n",
      "   7.6292  22.525   26.2875  59.4      7.4958  34.0208  93.5    221.7792\n",
      " 106.425   49.5     71.      13.8625   7.8292  39.6     17.4     51.4792\n",
      "  26.3875  30.      40.125    8.7125  15.      33.      42.4     15.55\n",
      "  65.      32.3208   7.0542   8.4333  25.5875   9.8417   8.1375  10.1708\n",
      " 211.3375  57.      13.4167   7.7417   9.4833   7.7375   8.3625  23.45\n",
      "  25.9292   8.6833   8.5167   7.8875  37.0042   6.45     6.95     8.3\n",
      "   6.4375  39.4     14.1083  13.8583  50.4958   5.       9.8458  10.5167\n",
      "   7.       9.6875  82.2667   3.1708  31.6833  31.5     57.75     7.85\n",
      "  60.      15.0333  15.5792  28.5375  25.7     10.7083  13.9      7.8208\n",
      "   7.7792  31.6792   7.2833  75.2417      nan  12.1833  13.775    8.9625\n",
      "  25.7417  42.5     27.4458 136.7792   9.325   12.7375  45.5      7.575\n",
      "   7.5792   7.7208]\n"
     ]
    }
   ],
   "source": [
    "print(raw_df.fare.nunique())\n",
    "print(raw_df.fare.unique())"
   ]
  },
  {
   "cell_type": "markdown",
   "metadata": {},
   "source": [
    "### **Categorical Variables**"
   ]
  },
  {
   "cell_type": "markdown",
   "metadata": {},
   "source": [
    "#### **Binary Variables**"
   ]
  },
  {
   "cell_type": "code",
   "execution_count": 20,
   "metadata": {},
   "outputs": [
    {
     "name": "stdout",
     "output_type": "stream",
     "text": [
      "2\n",
      "[0 1]\n"
     ]
    }
   ],
   "source": [
    "print(raw_df.survived.nunique())\n",
    "print(raw_df.survived.unique())"
   ]
  },
  {
   "cell_type": "markdown",
   "metadata": {},
   "source": [
    "#### **Ordinal Variables**"
   ]
  },
  {
   "cell_type": "code",
   "execution_count": 21,
   "metadata": {},
   "outputs": [
    {
     "name": "stdout",
     "output_type": "stream",
     "text": [
      "3\n",
      "[3 1 2]\n"
     ]
    }
   ],
   "source": [
    "print(raw_df.passenger_class.nunique())\n",
    "print(raw_df.passenger_class.unique())"
   ]
  },
  {
   "cell_type": "markdown",
   "metadata": {},
   "source": [
    "#### **Nominal Variables**"
   ]
  },
  {
   "cell_type": "code",
   "execution_count": 22,
   "metadata": {},
   "outputs": [
    {
     "name": "stdout",
     "output_type": "stream",
     "text": [
      "2\n",
      "['male' 'female']\n"
     ]
    }
   ],
   "source": [
    "print(raw_df.sex.nunique())\n",
    "print(raw_df.sex.unique())"
   ]
  },
  {
   "cell_type": "code",
   "execution_count": 23,
   "metadata": {},
   "outputs": [
    {
     "name": "stdout",
     "output_type": "stream",
     "text": [
      "3\n",
      "['S' 'C' 'Q' nan]\n"
     ]
    }
   ],
   "source": [
    "print(raw_df.embarked.nunique())\n",
    "print(raw_df.embarked.unique())"
   ]
  },
  {
   "cell_type": "code",
   "execution_count": 24,
   "metadata": {},
   "outputs": [
    {
     "name": "stdout",
     "output_type": "stream",
     "text": [
      "186\n",
      "[nan 'C85' 'C123' 'E46' 'G6' 'C103' 'D56' 'A6' 'C23 C25 C27' 'B78' 'D33'\n",
      " 'B30' 'C52' 'B28' 'C83' 'F33' 'F G73' 'E31' 'A5' 'D10 D12' 'D26' 'C110'\n",
      " 'B58 B60' 'E101' 'F E69' 'D47' 'B86' 'F2' 'C2' 'E33' 'B19' 'A7' 'C49'\n",
      " 'F4' 'A32' 'B4' 'B80' 'A31' 'D36' 'D15' 'C93' 'C78' 'D35' 'C87' 'B77'\n",
      " 'E67' 'B94' 'C125' 'C99' 'C118' 'D7' 'A19' 'B49' 'D' 'C22 C26' 'C106'\n",
      " 'C65' 'E36' 'C54' 'B57 B59 B63 B66' 'C7' 'E34' 'C32' 'B18' 'C124' 'C91'\n",
      " 'E40' 'T' 'C128' 'D37' 'B35' 'E50' 'C82' 'B96 B98' 'E10' 'E44' 'A34'\n",
      " 'C104' 'C111' 'C92' 'E38' 'D21' 'E12' 'E63' 'A14' 'B37' 'C30' 'D20' 'B79'\n",
      " 'E25' 'D46' 'B73' 'C95' 'B38' 'B39' 'B22' 'C86' 'C70' 'A16' 'C101' 'C68'\n",
      " 'A10' 'E68' 'B41' 'A20' 'D19' 'D50' 'D9' 'A23' 'B50' 'A26' 'D48' 'E58'\n",
      " 'C126' 'B71' 'B51 B53 B55' 'D49' 'B5' 'B20' 'F G63' 'C62 C64' 'E24' 'C90'\n",
      " 'C45' 'E8' 'B101' 'D45' 'C46' 'D30' 'E121' 'D11' 'E77' 'F38' 'B3' 'D6'\n",
      " 'B82 B84' 'D17' 'A36' 'B102' 'B69' 'E49' 'C47' 'D28' 'E17' 'A24' 'C50'\n",
      " 'B42' 'C148' 'B45' 'B36' 'A21' 'D34' 'A9' 'C31' 'B61' 'C53' 'D43' 'C130'\n",
      " 'C132' 'C55 C57' 'C116' 'F' 'A29' 'C6' 'C28' 'C51' 'C97' 'D22' 'B10'\n",
      " 'E45' 'E52' 'A11' 'B11' 'C80' 'C89' 'F E46' 'B26' 'F E57' 'A18' 'E60'\n",
      " 'E39 E41' 'B52 B54 B56' 'C39' 'B24' 'D40' 'D38' 'C105']\n"
     ]
    }
   ],
   "source": [
    "print(raw_df.cabin.nunique())\n",
    "print(raw_df.cabin.unique())"
   ]
  },
  {
   "cell_type": "code",
   "execution_count": 25,
   "metadata": {},
   "outputs": [
    {
     "name": "stdout",
     "output_type": "stream",
     "text": [
      "1307\n",
      "['Braund, Mr. Owen Harris'\n",
      " 'Cumings, Mrs. John Bradley (Florence Briggs Thayer)'\n",
      " 'Heikkinen, Miss. Laina' ... 'Saether, Mr. Simon Sivertsen'\n",
      " 'Ware, Mr. Frederick' 'Peter, Master. Michael J']\n"
     ]
    }
   ],
   "source": [
    "print(raw_df.full_name.nunique())\n",
    "print(raw_df.full_name.unique())"
   ]
  },
  {
   "cell_type": "code",
   "execution_count": 26,
   "metadata": {},
   "outputs": [
    {
     "name": "stdout",
     "output_type": "stream",
     "text": [
      "929\n",
      "['A/5 21171' 'PC 17599' 'STON/O2. 3101282' '113803' '373450' '330877'\n",
      " '17463' '349909' '347742' '237736' 'PP 9549' '113783' 'A/5. 2151'\n",
      " '347082' '350406' '248706' '382652' '244373' '345763' '2649' '239865'\n",
      " '248698' '330923' '113788' '347077' '2631' '19950' '330959' '349216'\n",
      " 'PC 17601' 'PC 17569' '335677' 'C.A. 24579' 'PC 17604' '113789' '2677'\n",
      " 'A./5. 2152' '345764' '2651' '7546' '11668' '349253' 'SC/Paris 2123'\n",
      " '330958' 'S.C./A.4. 23567' '370371' '14311' '2662' '349237' '3101295'\n",
      " 'A/4. 39886' 'PC 17572' '2926' '113509' '19947' 'C.A. 31026' '2697'\n",
      " 'C.A. 34651' 'CA 2144' '2669' '113572' '36973' '347088' 'PC 17605' '2661'\n",
      " 'C.A. 29395' 'S.P. 3464' '3101281' '315151' 'C.A. 33111' 'S.O.C. 14879'\n",
      " '2680' '1601' '348123' '349208' '374746' '248738' '364516' '345767'\n",
      " '345779' '330932' '113059' 'SO/C 14885' '3101278' 'W./C. 6608'\n",
      " 'SOTON/OQ 392086' '343275' '343276' '347466' 'W.E.P. 5734' 'C.A. 2315'\n",
      " '364500' '374910' 'PC 17754' 'PC 17759' '231919' '244367' '349245'\n",
      " '349215' '35281' '7540' '3101276' '349207' '343120' '312991' '349249'\n",
      " '371110' '110465' '2665' '324669' '4136' '2627' 'STON/O 2. 3101294'\n",
      " '370369' 'PC 17558' 'A4. 54510' '27267' '370372' 'C 17369' '2668'\n",
      " '347061' '349241' 'SOTON/O.Q. 3101307' 'A/5. 3337' '228414' 'C.A. 29178'\n",
      " 'SC/PARIS 2133' '11752' '7534' 'PC 17593' '2678' '347081'\n",
      " 'STON/O2. 3101279' '365222' '231945' 'C.A. 33112' '350043' '230080'\n",
      " '244310' 'S.O.P. 1166' '113776' 'A.5. 11206' 'A/5. 851' 'Fa 265302'\n",
      " 'PC 17597' '35851' 'SOTON/OQ 392090' '315037' 'CA. 2343' '371362'\n",
      " 'C.A. 33595' '347068' '315093' '363291' '113505' 'PC 17318' '111240'\n",
      " 'STON/O 2. 3101280' '17764' '350404' '4133' 'PC 17595' '250653' 'LINE'\n",
      " 'SC/PARIS 2131' '230136' '315153' '113767' '370365' '111428' '364849'\n",
      " '349247' '234604' '28424' '350046' 'PC 17610' '368703' '4579' '370370'\n",
      " '248747' '345770' '3101264' '2628' 'A/5 3540' '347054' '2699' '367231'\n",
      " '112277' 'SOTON/O.Q. 3101311' 'F.C.C. 13528' 'A/5 21174' '250646'\n",
      " '367229' '35273' 'STON/O2. 3101283' '243847' '11813' 'W/C 14208'\n",
      " 'SOTON/OQ 392089' '220367' '21440' '349234' '19943' 'PP 4348' 'SW/PP 751'\n",
      " 'A/5 21173' '236171' '347067' '237442' 'C.A. 29566' 'W./C. 6609' '26707'\n",
      " 'C.A. 31921' '28665' 'SCO/W 1585' '367230' 'W./C. 14263'\n",
      " 'STON/O 2. 3101275' '2694' '19928' '347071' '250649' '11751' '244252'\n",
      " '362316' '113514' 'A/5. 3336' '370129' '2650' 'PC 17585' '110152'\n",
      " 'PC 17755' '230433' '384461' '110413' '112059' '382649' 'C.A. 17248'\n",
      " '347083' 'PC 17582' 'PC 17760' '113798' '250644' 'PC 17596' '370375'\n",
      " '13502' '347073' '239853' 'C.A. 2673' '336439' '347464' '345778'\n",
      " 'A/5. 10482' '113056' '349239' '345774' '349206' '237798' '370373'\n",
      " '19877' '11967' 'SC/Paris 2163' '349236' '349233' 'PC 17612' '2693'\n",
      " '113781' '19988' '9234' '367226' '226593' 'A/5 2466' '17421' 'PC 17758'\n",
      " 'P/PP 3381' 'PC 17485' '11767' 'PC 17608' '250651' '349243'\n",
      " 'F.C.C. 13529' '347470' '29011' '36928' '16966' 'A/5 21172' '349219'\n",
      " '234818' '345364' '28551' '111361' '113043' 'PC 17611' '349225' '7598'\n",
      " '113784' '248740' '244361' '229236' '248733' '31418' '386525'\n",
      " 'C.A. 37671' '315088' '7267' '113510' '2695' '2647' '345783' '237671'\n",
      " '330931' '330980' 'SC/PARIS 2167' '2691' 'SOTON/O.Q. 3101310' 'C 7076'\n",
      " '110813' '2626' '14313' 'PC 17477' '11765' '3101267' '323951' 'C 7077'\n",
      " '113503' '2648' '347069' 'PC 17757' '2653' 'STON/O 2. 3101293' '349227'\n",
      " '27849' '367655' 'SC 1748' '113760' '350034' '3101277' '350052' '350407'\n",
      " '28403' '244278' '240929' 'STON/O 2. 3101289' '341826' '4137' '315096'\n",
      " '28664' '347064' '29106' '312992' '349222' '394140' 'STON/O 2. 3101269'\n",
      " '343095' '28220' '250652' '28228' '345773' '349254' 'A/5. 13032' '315082'\n",
      " '347080' 'A/4. 34244' '2003' '250655' '364851' 'SOTON/O.Q. 392078'\n",
      " '110564' '376564' 'SC/AH 3085' 'STON/O 2. 3101274' '13507' 'C.A. 18723'\n",
      " '345769' '347076' '230434' '65306' '33638' '113794' '2666' '113786'\n",
      " '65303' '113051' '17453' 'A/5 2817' '349240' '13509' '17464'\n",
      " 'F.C.C. 13531' '371060' '19952' '364506' '111320' '234360' 'A/S 2816'\n",
      " 'SOTON/O.Q. 3101306' '113792' '36209' '323592' '315089' 'SC/AH Basle 541'\n",
      " '7553' '31027' '3460' '350060' '3101298' '239854' 'A/5 3594' '4134'\n",
      " '11771' 'A.5. 18509' '65304' 'SOTON/OQ 3101317' '113787' 'PC 17609'\n",
      " 'A/4 45380' '36947' 'C.A. 6212' '350035' '315086' '364846' '330909'\n",
      " '4135' '26360' '111427' 'C 4001' '382651' 'SOTON/OQ 3101316' 'PC 17473'\n",
      " 'PC 17603' '349209' '36967' 'C.A. 34260' '226875' '349242' '12749'\n",
      " '349252' '2624' '2700' '367232' 'W./C. 14258' 'PC 17483' '3101296'\n",
      " '29104' '2641' '2690' '315084' '113050' 'PC 17761' '364498' '13568'\n",
      " 'WE/P 5735' '2908' '693' 'SC/PARIS 2146' '244358' '330979' '2620'\n",
      " '347085' '113807' '11755' '345572' '372622' '349251' '218629'\n",
      " 'SOTON/OQ 392082' 'SOTON/O.Q. 392087' 'A/4 48871' '349205' '2686'\n",
      " '350417' 'S.W./PP 752' '11769' 'PC 17474' '14312' 'A/4. 20589' '358585'\n",
      " '243880' '2689' 'STON/O 2. 3101286' '237789' '13049' '3411' '237565'\n",
      " '13567' '14973' 'A./5. 3235' 'STON/O 2. 3101273' 'A/5 3902' '364848'\n",
      " 'SC/AH 29037' '248727' '2664' '349214' '113796' '364511' '111426'\n",
      " '349910' '349246' '113804' 'SOTON/O.Q. 3101305' '370377' '364512'\n",
      " '220845' '31028' '2659' '11753' '350029' '54636' '36963' '219533'\n",
      " '349224' '334912' '27042' '347743' '13214' '112052' '237668'\n",
      " 'STON/O 2. 3101292' '350050' '349231' '13213' 'S.O./P.P. 751' 'CA. 2314'\n",
      " '349221' '8475' '330919' '365226' '349223' '29751' '2623' '5727' '349210'\n",
      " 'STON/O 2. 3101285' '234686' '312993' 'A/5 3536' '19996' '29750'\n",
      " 'F.C. 12750' 'C.A. 24580' '244270' '239856' '349912' '342826' '4138'\n",
      " '330935' '6563' '349228' '350036' '24160' '17474' '349256' '2672'\n",
      " '113800' '248731' '363592' '35852' '348121' 'PC 17475' '36864' '350025'\n",
      " '223596' 'PC 17476' 'PC 17482' '113028' '7545' '250647' '348124' '34218'\n",
      " '36568' '347062' '350048' '12233' '250643' '113806' '315094' '36866'\n",
      " '236853' 'STON/O2. 3101271' '239855' '28425' '233639' '349201' '349218'\n",
      " '16988' '376566' 'STON/O 2. 3101288' '250648' '113773' '335097' '29103'\n",
      " '392096' '345780' '349204' '350042' '29108' '363294' 'SOTON/O2 3101272'\n",
      " '2663' '347074' '112379' '364850' '8471' '345781' '350047' 'S.O./P.P. 3'\n",
      " '2674' '29105' '347078' '383121' '36865' '2687' '113501' 'W./C. 6607'\n",
      " 'SOTON/O.Q. 3101312' '374887' '3101265' '12460' 'PC 17600' '349203'\n",
      " '28213' '17465' '349244' '2685' '2625' '347089' '347063' '112050'\n",
      " '347087' '248723' '3474' '28206' '364499' '112058' 'STON/O2. 3101290'\n",
      " 'S.C./PARIS 2079' 'C 7075' '315098' '19972' '368323' '367228' '2671'\n",
      " '347468' '2223' 'PC 17756' '315097' '392092' '11774' 'SOTON/O2 3101287'\n",
      " '2683' '315090' 'C.A. 5547' '349213' '347060' 'PC 17592' '392091'\n",
      " '113055' '2629' '350026' '28134' '17466' '233866' '236852'\n",
      " 'SC/PARIS 2149' 'PC 17590' '345777' '349248' '695' '345765' '2667'\n",
      " '349212' '349217' '349257' '7552' 'C.A./SOTON 34068' 'SOTON/OQ 392076'\n",
      " '211536' '112053' '111369' '370376' '330911' '363272' '240276' '315154'\n",
      " '7538' '330972' '2657' '349220' '694' '21228' '24065' '233734' '2692'\n",
      " 'STON/O2. 3101270' '2696' 'C 17368' 'PC 17598' '2698' '113054'\n",
      " 'C.A. 31029' '13236' '2682' '342712' '315087' '345768' '113778'\n",
      " 'SOTON/O.Q. 3101263' '237249' 'STON/O 2. 3101291' 'PC 17594' '370374'\n",
      " '13695' 'SC/PARIS 2168' 'SC/A.3 2861' '349230' '348122' '349232' '237216'\n",
      " '347090' '334914' 'F.C.C. 13534' '330963' '2543' '382653' '349211'\n",
      " '3101297' 'PC 17562' '359306' '11770' '248744' '368702' '19924' '349238'\n",
      " '240261' '2660' '330844' 'A/4 31416' '364856' '347072' '345498' '376563'\n",
      " '13905' '350033' 'STON/O 2. 3101268' '347471' 'A./5. 3338' '11778'\n",
      " '365235' '347070' '330920' '383162' '3410' '248734' '237734' '330968'\n",
      " 'PC 17531' '329944' '2681' '13050' '367227' '392095' '368783' '350045'\n",
      " '211535' '342441' 'STON/OQ. 369943' '113780' '2621' '349226' '350409'\n",
      " '2656' '248659' 'SOTON/OQ 392083' '17475' 'SC/A4 23568' '113791' '349255'\n",
      " '3701' '350405' 'S.O./P.P. 752' '347469' '110489' 'SOTON/O.Q. 3101315'\n",
      " '335432' '220844' '343271' '237393' 'PC 17591' '17770' '7548'\n",
      " 'S.O./P.P. 251' '2670' '2673' '233478' '7935' '239059' 'S.O./P.P. 2'\n",
      " 'A/4 48873' '28221' '111163' '235509' '347465' '347066' 'C.A. 31030'\n",
      " '65305' 'C.A. 34050' 'F.C. 12998' '9232' '28034' 'PC 17613' '349250'\n",
      " 'SOTON/O.Q. 3101308' '347091' '113038' '330924' '32302' 'SC/PARIS 2148'\n",
      " '342684' 'W./C. 14266' '350053' 'PC 17606' '350054' '370368' '242963'\n",
      " '113795' '3101266' '330971' '350416' '2679' '250650' '112377' '3470'\n",
      " 'SOTON/O2 3101284' '13508' '7266' '345775' 'C.A. 42795' 'AQ/4 3130'\n",
      " '363611' '28404' '345501' '350410' 'C.A. 34644' '349235' '112051'\n",
      " 'C.A. 49867' 'A. 2. 39186' '315095' '368573' '2676' 'SC 14888' 'CA 31352'\n",
      " 'W./C. 14260' '315085' '364859' 'A/5 21175' 'SOTON/O.Q. 3101314' '2655'\n",
      " 'A/5 1478' 'PC 17607' '382650' '2652' '345771' '349202' '113801' '347467'\n",
      " '347079' '237735' '315092' '383123' '112901' '315091' '2658' 'LP 1588'\n",
      " '368364' 'AQ/3. 30631' '28004' '350408' '347075' '2654' '244368' '113790'\n",
      " 'SOTON/O.Q. 3101309' '236854' 'PC 17580' '2684' '349229' '110469'\n",
      " '244360' '2675' '2622' 'C.A. 15185' '350403' '348125' '237670' '2688'\n",
      " '248726' 'F.C.C. 13540' '113044' '1222' '368402' '315083' '112378'\n",
      " 'SC/PARIS 2147' '28133' '248746' '315152' '29107' '680' '366713' '330910'\n",
      " 'SC/PARIS 2159' '349911' '244346' '364858' 'C.A. 30769' '371109' '347065'\n",
      " '21332' '17765' 'SC/PARIS 2166' '28666' '334915' '365237' '347086'\n",
      " 'A.5. 3236' 'SOTON/O.Q. 3101262' '359309']\n"
     ]
    }
   ],
   "source": [
    "print(raw_df.ticket.nunique())\n",
    "print(raw_df.ticket.unique())"
   ]
  },
  {
   "cell_type": "markdown",
   "metadata": {},
   "source": [
    "## **Removing Duplicates**"
   ]
  },
  {
   "cell_type": "code",
   "execution_count": 27,
   "metadata": {},
   "outputs": [],
   "source": [
    "INDEX_COLS_LIST = [\"passenger_id\"]"
   ]
  },
  {
   "cell_type": "code",
   "execution_count": 28,
   "metadata": {},
   "outputs": [
    {
     "data": {
      "text/html": [
       "<div>\n",
       "<style scoped>\n",
       "    .dataframe tbody tr th:only-of-type {\n",
       "        vertical-align: middle;\n",
       "    }\n",
       "\n",
       "    .dataframe tbody tr th {\n",
       "        vertical-align: top;\n",
       "    }\n",
       "\n",
       "    .dataframe thead th {\n",
       "        text-align: right;\n",
       "    }\n",
       "</style>\n",
       "<table border=\"1\" class=\"dataframe\">\n",
       "  <thead>\n",
       "    <tr style=\"text-align: right;\">\n",
       "      <th></th>\n",
       "      <th>passenger_id</th>\n",
       "      <th>survived</th>\n",
       "      <th>passenger_class</th>\n",
       "      <th>full_name</th>\n",
       "      <th>sex</th>\n",
       "      <th>age</th>\n",
       "      <th>siblings_spouses</th>\n",
       "      <th>parents_children</th>\n",
       "      <th>ticket</th>\n",
       "      <th>fare</th>\n",
       "      <th>cabin</th>\n",
       "      <th>embarked</th>\n",
       "      <th>split</th>\n",
       "    </tr>\n",
       "  </thead>\n",
       "  <tbody>\n",
       "  </tbody>\n",
       "</table>\n",
       "</div>"
      ],
      "text/plain": [
       "Empty DataFrame\n",
       "Columns: [passenger_id, survived, passenger_class, full_name, sex, age, siblings_spouses, parents_children, ticket, fare, cabin, embarked, split]\n",
       "Index: []"
      ]
     },
     "execution_count": 28,
     "metadata": {},
     "output_type": "execute_result"
    }
   ],
   "source": [
    "duplicates = raw_df[raw_df[INDEX_COLS_LIST].duplicated()]\n",
    "duplicates"
   ]
  },
  {
   "cell_type": "code",
   "execution_count": 29,
   "metadata": {},
   "outputs": [
    {
     "name": "stdout",
     "output_type": "stream",
     "text": [
      "(1309, 13)\n",
      "(1309, 13)\n"
     ]
    }
   ],
   "source": [
    "print(raw_df.shape)\n",
    "raw_df.drop_duplicates(subset=INDEX_COLS_LIST, keep=\"first\", inplace=True)\n",
    "print(raw_df.shape)"
   ]
  },
  {
   "cell_type": "markdown",
   "metadata": {},
   "source": [
    "## **Indexing**\n"
   ]
  },
  {
   "cell_type": "code",
   "execution_count": 30,
   "metadata": {},
   "outputs": [
    {
     "data": {
      "text/html": [
       "<div>\n",
       "<style scoped>\n",
       "    .dataframe tbody tr th:only-of-type {\n",
       "        vertical-align: middle;\n",
       "    }\n",
       "\n",
       "    .dataframe tbody tr th {\n",
       "        vertical-align: top;\n",
       "    }\n",
       "\n",
       "    .dataframe thead th {\n",
       "        text-align: right;\n",
       "    }\n",
       "</style>\n",
       "<table border=\"1\" class=\"dataframe\">\n",
       "  <thead>\n",
       "    <tr style=\"text-align: right;\">\n",
       "      <th></th>\n",
       "      <th>survived</th>\n",
       "      <th>passenger_class</th>\n",
       "      <th>full_name</th>\n",
       "      <th>sex</th>\n",
       "      <th>age</th>\n",
       "      <th>siblings_spouses</th>\n",
       "      <th>parents_children</th>\n",
       "      <th>ticket</th>\n",
       "      <th>fare</th>\n",
       "      <th>cabin</th>\n",
       "      <th>embarked</th>\n",
       "      <th>split</th>\n",
       "    </tr>\n",
       "    <tr>\n",
       "      <th>passenger_id</th>\n",
       "      <th></th>\n",
       "      <th></th>\n",
       "      <th></th>\n",
       "      <th></th>\n",
       "      <th></th>\n",
       "      <th></th>\n",
       "      <th></th>\n",
       "      <th></th>\n",
       "      <th></th>\n",
       "      <th></th>\n",
       "      <th></th>\n",
       "      <th></th>\n",
       "    </tr>\n",
       "  </thead>\n",
       "  <tbody>\n",
       "    <tr>\n",
       "      <th>1</th>\n",
       "      <td>0</td>\n",
       "      <td>3</td>\n",
       "      <td>Braund, Mr. Owen Harris</td>\n",
       "      <td>male</td>\n",
       "      <td>22.0</td>\n",
       "      <td>1</td>\n",
       "      <td>0</td>\n",
       "      <td>A/5 21171</td>\n",
       "      <td>7.25</td>\n",
       "      <td>NaN</td>\n",
       "      <td>S</td>\n",
       "      <td>train</td>\n",
       "    </tr>\n",
       "  </tbody>\n",
       "</table>\n",
       "</div>"
      ],
      "text/plain": [
       "              survived  passenger_class                full_name   sex   age  \\\n",
       "passenger_id                                                                   \n",
       "1                    0                3  Braund, Mr. Owen Harris  male  22.0   \n",
       "\n",
       "              siblings_spouses  parents_children     ticket  fare cabin  \\\n",
       "passenger_id                                                              \n",
       "1                            1                 0  A/5 21171  7.25   NaN   \n",
       "\n",
       "             embarked  split  \n",
       "passenger_id                  \n",
       "1                   S  train  "
      ]
     },
     "execution_count": 30,
     "metadata": {},
     "output_type": "execute_result"
    }
   ],
   "source": [
    "raw_df.set_index(INDEX_COLS_LIST, inplace=True)\n",
    "raw_df.head(1)"
   ]
  },
  {
   "cell_type": "markdown",
   "metadata": {},
   "source": [
    "## **Missing Values**"
   ]
  },
  {
   "cell_type": "markdown",
   "metadata": {},
   "source": [
    "### **Deletion**"
   ]
  },
  {
   "cell_type": "markdown",
   "metadata": {},
   "source": [
    "#### **Listwise Deletion**"
   ]
  },
  {
   "cell_type": "code",
   "execution_count": 31,
   "metadata": {},
   "outputs": [],
   "source": [
    "# raw_df.dropna(inplace=True)"
   ]
  },
  {
   "cell_type": "markdown",
   "metadata": {},
   "source": [
    "#### **Pairwise Deletion**"
   ]
  },
  {
   "cell_type": "code",
   "execution_count": 32,
   "metadata": {},
   "outputs": [],
   "source": [
    "raw_df.dropna(subset=[\"embarked\"], inplace=True)"
   ]
  },
  {
   "cell_type": "markdown",
   "metadata": {},
   "source": [
    "#### **Dropping Columns**"
   ]
  },
  {
   "cell_type": "markdown",
   "metadata": {},
   "source": [
    "### **Single Imputation**"
   ]
  },
  {
   "cell_type": "code",
   "execution_count": 33,
   "metadata": {},
   "outputs": [],
   "source": [
    "raw_df.fillna(value={\"cabin\": \"Unknown\"}, inplace=True)\n",
    "\n",
    "raw_df[\"age\"] = raw_df.groupby([\"passenger_class\", \"sex\", \"embarked\"])[\"age\"].transform(\n",
    "    lambda x: x.fillna(x.mean())\n",
    ")"
   ]
  },
  {
   "cell_type": "code",
   "execution_count": 34,
   "metadata": {},
   "outputs": [],
   "source": [
    "raw_df[\"fare\"] = raw_df.groupby([\"passenger_class\", \"sex\", \"embarked\"])[\n",
    "    \"fare\"\n",
    "].transform(lambda x: x.fillna(x.mean()))"
   ]
  },
  {
   "cell_type": "markdown",
   "metadata": {},
   "source": [
    "### **Multiple Imputation** 🔴"
   ]
  },
  {
   "cell_type": "markdown",
   "metadata": {},
   "source": [
    "## **Splitting Columns**"
   ]
  },
  {
   "cell_type": "code",
   "execution_count": 35,
   "metadata": {},
   "outputs": [
    {
     "data": {
      "text/plain": [
       "array(['Braund', 'Cumings', 'Heikkinen', 'Futrelle', 'Allen', 'Moran',\n",
       "       'McCarthy', 'Palsson', 'Johnson', 'Nasser', 'Sandstrom', 'Bonnell',\n",
       "       'Saundercock', 'Andersson', 'Vestrom', 'Hewlett', 'Rice',\n",
       "       'Williams', 'Vander Planke', 'Masselmani', 'Fynney', 'Beesley',\n",
       "       'McGowan', 'Sloper', 'Asplund', 'Emir', 'Fortune', \"O'Dwyer\",\n",
       "       'Todoroff', 'Uruchurtu', 'Spencer', 'Glynn', 'Wheadon', 'Meyer',\n",
       "       'Holverson', 'Mamee', 'Cann', 'Nicola-Yarred', 'Ahlin', 'Turpin',\n",
       "       'Kraeff', 'Laroche', 'Devaney', 'Rogers', 'Lennon', \"O'Driscoll\",\n",
       "       'Samaan', 'Arnold-Franchi', 'Panula', 'Nosworthy', 'Harper',\n",
       "       'Faunthorpe', 'Ostby', 'Woolner', 'Rugg', 'Novel', 'West',\n",
       "       'Goodwin', 'Sirayanian', 'Harris', 'Skoog', 'Stewart', 'Moubarek',\n",
       "       'Nye', 'Crease', 'Kink', 'Jenkin', 'Hood', 'Chronopoulos', 'Bing',\n",
       "       'Moen', 'Staneff', 'Moutal', 'Caldwell', 'Dowdell', 'Waelens',\n",
       "       'Sheerlinck', 'McDermott', 'Carrau', 'Ilett', 'Backstrom', 'Ford',\n",
       "       'Slocovski', 'Celotti', 'Christmann', 'Andreasson', 'Chaffee',\n",
       "       'Dean', 'Coxon', 'Shorney', 'Goldschmidt', 'Greenfield', 'Doling',\n",
       "       'Kantor', 'Petranec', 'Petroff', 'White', 'Johansson',\n",
       "       'Gustafsson', 'Mionoff', 'Salkjelsvik', 'Moss', 'Rekic', 'Porter',\n",
       "       'Zabour', 'Barton', 'Jussila', 'Attalah', 'Pekoniemi', 'Connors',\n",
       "       'Baxter', 'Hickman', 'Moore', 'Webber', 'McMahon', 'Madsen',\n",
       "       'Peter', 'Ekstrom', 'Drazenoic', 'Coelho', 'Robins', 'Weisz',\n",
       "       'Sobey', 'Richard', 'Newsom', 'Osen', 'Giglio', 'Boulos', 'Nysten',\n",
       "       'Hakkarainen', 'Burke', 'Andrew', 'Nicholls', 'Navratil', 'Byles',\n",
       "       'Bateman', 'Pears', 'Meo', 'van Billiard', 'Olsen', 'Gilnagh',\n",
       "       'Corn', 'Smiljanic', 'Sage', 'Cribb', 'Watt', 'Bengtsson', 'Calic',\n",
       "       'Goldsmith', 'Chibnall', 'Baumann', 'Ling', 'Van der hoef',\n",
       "       'Sivola', 'Smith', 'Klasen', 'Lefebre', 'Isham', 'Hale', 'Leonard',\n",
       "       'Pernot', 'Becker', 'Kink-Heilmann', 'Rood', \"O'Brien\", 'Romaine',\n",
       "       'Bourke', 'Turcin', 'Pinsky', 'Carbines', 'Andersen-Jensen',\n",
       "       'Brown', 'Lurette', 'Mernagh', 'Madigan', 'Yrois', 'Vande Walle',\n",
       "       'Johanson', 'Youseff', 'Cohen', 'Strom', 'Albimona', 'Carr',\n",
       "       'Blank', 'Ali', 'Cameron', 'Perkin', 'Givard', 'Kiernan', 'Newell',\n",
       "       'Honkanen', 'Jacobsohn', 'Bazzani', 'Sunderland', 'Bracken',\n",
       "       'Green', 'Nenkoff', 'Hoyt', 'Berglund', 'Mellors', 'Lovell',\n",
       "       'Fahlstrom', 'Larsson', 'Sjostedt', 'Leyson', 'Harknett', 'Hold',\n",
       "       'Collyer', 'Pengelly', 'Hunt', 'Murphy', 'Coleridge', 'Maenpaa',\n",
       "       'Minahan', 'Lindahl', 'Hamalainen', 'Beckwith', 'Carter', 'Reed',\n",
       "       'Stead', 'Lobb', 'Rosblom', 'Touma', 'Thorne', 'Cherry', 'Ward',\n",
       "       'Parrish', 'Taussig', 'Harrison', 'Henry', 'Reeves', 'Persson',\n",
       "       'Graham', 'Bissette', 'Cairns', 'Tornquist', 'Mellinger', 'Natsch',\n",
       "       'Healy', 'Andrews', 'Lindblom', 'Parkes', 'Abbott', 'Duane',\n",
       "       'Olsson', 'de Pelsmaeker', 'Dorking', 'Stankovic', 'de Mulder',\n",
       "       'Naidenoff', 'Hosono', 'Connolly', 'Barber', 'Bishop', 'Levy',\n",
       "       'Haas', 'Mineff', 'Lewy', 'Hanna', 'Allison', 'Saalfeld', 'Kelly',\n",
       "       'McCoy', 'Keane', 'Fleming', 'Penasco y Castellana', 'Abelson',\n",
       "       'Francatelli', 'Hays', 'Ryerson', 'Lahtinen', 'Hendekovic', 'Hart',\n",
       "       'Nilsson', 'Moraweck', 'Wick', 'Spedden', 'Dennis', 'Danoff',\n",
       "       'Slayter', 'Young', 'Nysveen', 'Ball', 'Hippach', 'Partner',\n",
       "       'Frauenthal', 'Denkoff', 'Burns', 'Dahl', 'Blackwell', 'Collander',\n",
       "       'Sedgwick', 'Fox', 'Davison', 'Coutts', 'Dimic', 'Odahl',\n",
       "       'Williams-Lambert', 'Elias', 'Yousif', 'Vanden Steen', 'Bowerman',\n",
       "       'Funk', 'McGovern', 'Mockler', 'del Carlo', 'Barbara', 'Asim',\n",
       "       'Adahl', 'Warren', 'Moussa', 'Jermyn', 'Aubart', 'Harder',\n",
       "       'Wiklund', 'Beavan', 'Ringhini', 'Landergren', 'Widener', 'Betros',\n",
       "       'Bidois', 'Nakid', 'Tikkanen', 'Plotcharsky', 'Davies', 'Buss',\n",
       "       'Sadlier', 'Lehmann', 'Jansson', 'McKane', 'Pain', 'Trout',\n",
       "       'Niskanen', 'Adams', 'Oreskovic', 'Gale', 'Widegren', 'Richards',\n",
       "       'Birkeland', 'Sdycoff', 'Cunningham', 'Sundman', 'Meek', 'Drew',\n",
       "       'Silven', 'Matthews', 'Van Impe', 'Gheorgheff', 'Charters',\n",
       "       'Zimmerman', 'Danbom', 'Wiseman', 'Clarke', 'Phillips', 'Flynn',\n",
       "       'Pickard', 'Bjornstrom-Steffansson', 'Thorneycroft', 'Louch',\n",
       "       'Kallio', 'Silvey', 'Kvillner', 'Hampe', 'Petterson', 'Reynaldo',\n",
       "       'Johannesen-Bratthammer', 'Dodge', 'Seward', 'Baclini', 'Peuchen',\n",
       "       'Hagland', 'Foreman', 'Goldenberg', 'Peduzzi', 'Jalsevac',\n",
       "       'Millet', 'Kenyon', 'Toomey', \"O'Connor\", 'Anderson', 'Morley',\n",
       "       'Gee', 'Milling', 'Maisner', 'Goncalves', 'Campbell', 'Smart',\n",
       "       'Scanlan', 'Keefe', 'Cacic', 'Jerwan', 'Strandberg', 'Clifford',\n",
       "       'Renouf', 'Karlsson', 'Hirvonen', 'Frost', 'Rouse', 'Turkula',\n",
       "       'Kent', 'Somerton', 'Windelov', 'Molson', 'Artagaveytia',\n",
       "       'Stanley', 'Yousseff', 'Eustis', 'Shellard', 'Svensson', 'Canavan',\n",
       "       \"O'Sullivan\", 'Laitinen', 'Maioni', 'Quick', 'Bradley', 'Lang',\n",
       "       'Daly', 'McGough', 'Rothschild', 'Coleff', 'Walker', 'Lemore',\n",
       "       'Ryan', 'Angle', 'Pavlovic', 'Perreault', 'Vovk', 'Lahoud',\n",
       "       'Kassem', 'Farrell', 'Ridsdale', 'Farthing', 'Salonen', 'Hocking',\n",
       "       'Toufik', 'Butt', 'LeRoy', 'Risien', 'Frolicher', 'Crosby',\n",
       "       'Beane', 'Douglas', 'Nicholson', 'Padro y Manent', 'Thayer',\n",
       "       'Sharp', 'Leeni', 'Ohman', 'Wright', 'Duff Gordon', 'Robbins',\n",
       "       'de Messemaeker', 'Morrow', 'Sivic', 'Norman', 'Simmons',\n",
       "       'Meanwell', 'Stoytcheff', 'Doharr', 'Jonsson', 'Appleton', 'Rush',\n",
       "       'Patchett', 'Garside', 'Caram', 'Christy', 'Downton', 'Ross',\n",
       "       'Paulner', 'Jarvis', 'Frolicher-Stehli', 'Gilinski', 'Murdlin',\n",
       "       'Rintamaki', 'Stephenson', 'Elsbury', 'Chapman', 'Leitch',\n",
       "       'Slabenoff', 'Harrington', 'Torber', 'Homer', 'Lindell', 'Karaic',\n",
       "       'Daniel', 'Shutes', 'Jardin', 'Horgan', 'Brocklebank', 'Herman',\n",
       "       'Gavey', 'Yasbeck', 'Kimball', 'Hansen', 'Bowen', 'Sutton',\n",
       "       'Kirkland', 'Longley', 'Bostandyeff', \"O'Connell\", 'Barkworth',\n",
       "       'Lundahl', 'Stahelin-Maeglin', 'Parr', 'Davis', 'Leinonen',\n",
       "       'Jensen', 'Sagesser', 'Foo', 'Cor', 'Simonius-Blumer', 'Willey',\n",
       "       'Mitkoff', 'Kalvik', \"O'Leary\", 'Hegarty', 'Radeff', 'Eitemiller',\n",
       "       'Badt', 'Colley', 'Lindqvist', 'Butler', 'Rommetvedt', 'Cook',\n",
       "       'Taylor', 'Davidson', 'Mitchell', 'Wilhelms', 'Watson',\n",
       "       'Edvardsson', 'Sawyer', 'Turja', 'Cardeza', 'Peters', 'Hassab',\n",
       "       'Olsvigen', 'Dakic', 'Fischer', 'Madill', 'Dick', 'Karun', 'Lam',\n",
       "       'Saad', 'Weir', 'Mullens', 'Humblen', 'Astor', 'Silverthorne',\n",
       "       'Gallagher', 'Calderhead', 'Cleaver', 'Mayne', 'Klaber',\n",
       "       'Greenberg', 'Soholt', 'Endres', 'Troutt', 'McEvoy', 'Gillespie',\n",
       "       'Hodges', 'Chambers', 'Mannion', 'Bryhl', 'Ilmakangas', 'Hassan',\n",
       "       'Knight', 'Berriman', 'Troupiansky', 'Lesurer', 'Ivanoff',\n",
       "       'Nankoff', 'Hawksford', 'Cavendish', 'McNamee', 'Stranden',\n",
       "       'Sinkkonen', 'Marvin', 'Connaghton', 'Wells', 'Moor',\n",
       "       'Vande Velde', 'Jonkoff', 'Carlsson', 'Bailey', 'Theobald',\n",
       "       'Rothes', 'Garfirth', 'Nirva', 'Barah', 'Eklund', 'Hogeboom',\n",
       "       'Brewe', 'Mangan', 'Gronnestad', 'Lievens', 'Mack', 'Myhrman',\n",
       "       'Tobin', 'Emanuel', 'Kilgannon', 'Robert', 'Ayoub', 'Long',\n",
       "       'Johnston', 'Harmer', 'Sjoblom', 'Guggenheim', 'Gaskell',\n",
       "       'Dantcheff', 'Otter', 'Leader', 'Osman', 'Ibrahim Shawah',\n",
       "       'Ponesell', 'Thomas', 'Hedman', 'Pettersson', 'Alexander',\n",
       "       'Lester', 'Slemen', 'Tomlin', 'Fry', 'Heininen', 'Mallet', 'Holm',\n",
       "       'Lulic', 'Reuchlin', 'McCormack', 'Augustsson', 'Allum', 'Compton',\n",
       "       'Pasic', 'Sirota', 'Chip', 'Marechal', 'Alhomaki', 'Mudd',\n",
       "       'Serepeca', 'Lemberopolous', 'Culumovic', 'Abbing', 'Markoff',\n",
       "       'Lines', 'Aks', 'Razi', 'Giles', 'Swift', 'Gill', 'Bystrom',\n",
       "       'Duran y More', 'Roebling', 'van Melkebeke', 'Balkic',\n",
       "       'Vander Cruyssen', 'Najib', 'Laleff', 'Potter', 'Shelley',\n",
       "       'Markun', 'Dahlberg', 'Banfield', 'Sutehall', 'Montvila', 'Behr',\n",
       "       'Dooley', 'Wilkes', 'Myles', 'Wirz', 'Abrahim', 'Ilieff', 'Jones',\n",
       "       'Snyder', 'Howard', 'Assaf', 'Assaf Khalil', 'Flegenheim', 'Daher',\n",
       "       'Brady', 'Jefferys', 'Mock', 'Katavelas', 'Roth', 'Sap', 'Hee',\n",
       "       'Franklin', 'Corbett', 'Peltomaki', 'Chevre', 'Shaughnessy',\n",
       "       'Bucknell', 'Pulbaum', 'Mangiavacchi', 'Abelseth', 'Chaudanson',\n",
       "       'Dika', 'McCrae', 'Bjorklund', 'Corey', 'Tucker', 'Mulvihill',\n",
       "       'Minkoff', 'Nieminen', 'Ovies y Rodriguez', 'Geiger', 'Keeping',\n",
       "       'Miles', 'Cornell', 'Aldworth', 'Doyle', 'Straus', 'Case',\n",
       "       'Demetri', 'Lamb', 'Khalil', 'Barry', 'Badman', \"O'Donoghue\",\n",
       "       'Dyker', 'Pedersen', 'Guest', 'Birnbaum', 'Tenglin', 'Makinen',\n",
       "       'Braf', 'Nancarrow', 'Stengel', 'Foley', 'Johansson Palmquist',\n",
       "       'Holthen', 'Buckley', 'Willer', 'Swane', 'Stanton', 'Shine',\n",
       "       'Evans', 'Beattie', 'Schabert', 'Carver', 'Kennedy', 'Brobeck',\n",
       "       'Bowenur', 'Petersen', 'Spinner', 'Gracie', 'Dintcheff',\n",
       "       'Zakarian', 'Schmidt', 'Drapkin', 'Daniels', 'Beauchamp',\n",
       "       'Lindeberg-Lind', 'Hilliard', 'Crafton', 'Earnshaw', 'Matinoff',\n",
       "       'Storey', 'Duquemin', 'Bird', 'Lundin', 'Borebank', 'Peacock',\n",
       "       'Smyth', 'Pearce', 'Peruschitz', 'Brandeis', 'Cassebeer',\n",
       "       'Hellstrom', 'Lithman', 'Torfa', 'Sincock', 'McCrie', 'Lane',\n",
       "       'Maybery', 'Veal', 'Salomon', 'Lingane', 'Baimbrigge', 'Rasmussen',\n",
       "       'Omont', 'Collett', 'Rosenbaum', 'Delalic', 'Andersen', 'Finoli',\n",
       "       'Deacon', 'Head', 'Mahon', 'Thomson', 'Reynolds', 'Candee',\n",
       "       'McNeill', 'Everett', 'Sweet', 'Willard', 'Linehan', 'Vendel',\n",
       "       'Baccos', 'Hiltunen', 'Lindstrom', 'Hyman', 'Karnes',\n",
       "       'Abrahamsson', 'Clark', 'Salander', 'Wenzel', 'MacKay',\n",
       "       'Niklasson', 'Bentham', 'Midtsjo', 'Portaluppi', 'Lyntakoff',\n",
       "       'Chisholm', 'Pokrnic', 'McCaffry', 'Saade', 'Parker', 'Ware',\n",
       "       'Oxenham', 'Mardirosian', 'Rheims', 'Nasr', 'Wittevrongel',\n",
       "       'Angheloff', 'Loring', 'Malachard', 'Vartanian', 'Sadowitz',\n",
       "       'Hagardon', 'Krekorian', 'Nesson', 'Rowe', 'Kreuchen', 'Assam',\n",
       "       'Rosenshine', 'Enander', 'Dulles', 'Maguire', 'de Brito',\n",
       "       'Denbury', 'Fillbrook', 'Lundstrom', 'Botsford', 'Whabee',\n",
       "       'Walcroft', 'Stokes', 'Dibden', 'Julian', 'Lockyer', \"O'Keefe\",\n",
       "       'Strilic', 'Riihivouri', 'Gibson', 'Pallas y Castello', 'Wilson',\n",
       "       'Ismay', 'Harbeck', 'Cotterill', 'Hipkins', 'Wheeler', 'Aronsson',\n",
       "       'Ashby', 'Payne', 'Gilbert', 'Colbert', 'Larsson-Rondberg',\n",
       "       'Conlon', 'Nourney', 'Riordan', 'Naughton', 'Henriksson',\n",
       "       'Spector', 'Oliva y Ocana', 'Saether'], dtype=object)"
      ]
     },
     "execution_count": 35,
     "metadata": {},
     "output_type": "execute_result"
    }
   ],
   "source": [
    "raw_df[\"surname\"] = raw_df[\"full_name\"].str.split(\",\").str[0]\n",
    "raw_df[\"surname\"].unique()"
   ]
  },
  {
   "cell_type": "code",
   "execution_count": 36,
   "metadata": {},
   "outputs": [
    {
     "data": {
      "text/plain": [
       "array(['Mr', 'Mrs', 'Miss', 'Master', 'Don', 'Rev', 'Dr', 'Mme', 'Ms',\n",
       "       'Major', 'Lady', 'Sir', 'Mlle', 'Col', 'Capt', 'the Countess',\n",
       "       'Jonkheer', 'Dona'], dtype=object)"
      ]
     },
     "execution_count": 36,
     "metadata": {},
     "output_type": "execute_result"
    }
   ],
   "source": [
    "raw_df[\"title\"] = raw_df[\"full_name\"].str.split(\",\").str[1].str.split(\".\").str[0]\n",
    "raw_df[\"title\"] = raw_df[\"title\"].str.strip()\n",
    "raw_df[\"title\"].unique()"
   ]
  },
  {
   "cell_type": "code",
   "execution_count": 37,
   "metadata": {},
   "outputs": [
    {
     "data": {
      "text/plain": [
       "array(['Owen Harris', 'John Bradley (Florence Briggs Thayer)', 'Laina',\n",
       "       ..., 'Fermina', 'Simon Sivertsen', 'Michael J'], dtype=object)"
      ]
     },
     "execution_count": 37,
     "metadata": {},
     "output_type": "execute_result"
    }
   ],
   "source": [
    "raw_df[\"first_name\"] = raw_df[\"full_name\"].str.split(\",\").str[1].str.split(\".\").str[1]\n",
    "raw_df[\"first_name\"] = raw_df[\"first_name\"].str.strip()\n",
    "raw_df[\"first_name\"].unique()"
   ]
  },
  {
   "cell_type": "markdown",
   "metadata": {},
   "source": [
    "## **String Parsing** 🔴"
   ]
  },
  {
   "cell_type": "code",
   "execution_count": 38,
   "metadata": {},
   "outputs": [
    {
     "data": {
      "text/plain": [
       "array([0, 1, 3, 2, 4])"
      ]
     },
     "execution_count": 38,
     "metadata": {},
     "output_type": "execute_result"
    }
   ],
   "source": [
    "raw_df[\"list_cabins\"] = raw_df[\"cabin\"].str.split(r\"\\s\")\n",
    "\n",
    "# Could be Feature Engineering\n",
    "\n",
    "raw_df[\"num_rooms\"] = raw_df[\"list_cabins\"].apply(\n",
    "    lambda x: len(x) if x[0] != \"Unknown\" else 0\n",
    ")\n",
    "raw_df[\"num_rooms\"] = raw_df[\"num_rooms\"].astype(int)\n",
    "raw_df[\"num_rooms\"].unique()"
   ]
  },
  {
   "cell_type": "code",
   "execution_count": 39,
   "metadata": {},
   "outputs": [],
   "source": [
    "raw_df.drop(columns=[\"list_cabins\"], inplace=True)"
   ]
  },
  {
   "cell_type": "code",
   "execution_count": 40,
   "metadata": {},
   "outputs": [
    {
     "data": {
      "text/plain": [
       "array(['U', 'C', 'E', 'G', 'D', 'A', 'B', 'F', 'T'], dtype=object)"
      ]
     },
     "execution_count": 40,
     "metadata": {},
     "output_type": "execute_result"
    }
   ],
   "source": [
    "raw_df[\"cabin_level_1\"] = raw_df[\"cabin\"].str[0]\n",
    "raw_df[\"cabin_level_1\"].unique()"
   ]
  },
  {
   "cell_type": "code",
   "execution_count": 41,
   "metadata": {},
   "outputs": [
    {
     "data": {
      "text/plain": [
       "cabin_level_1\n",
       "G    488\n",
       "F    455\n",
       "C    162\n",
       "D     70\n",
       "B     63\n",
       "E     47\n",
       "A     22\n",
       "Name: count, dtype: int64"
      ]
     },
     "execution_count": 41,
     "metadata": {},
     "output_type": "execute_result"
    }
   ],
   "source": [
    "# Define a function to replace 'U' with the mode of the group\n",
    "def replace_U_with_mode(group):\n",
    "    mode_value = group[~group.isin([\"U\", \"T\"])].mode()\n",
    "    if not mode_value.empty:\n",
    "        group[group.isin([\"U\", \"T\"])] = mode_value[0]\n",
    "    return group\n",
    "\n",
    "\n",
    "# Apply the function to each group\n",
    "raw_df[\"cabin_level_1\"] = raw_df.groupby([\"passenger_class\", \"embarked\"])[\n",
    "    \"cabin_level_1\"\n",
    "].transform(replace_U_with_mode)\n",
    "raw_df.cabin_level_1.value_counts()"
   ]
  },
  {
   "cell_type": "code",
   "execution_count": 42,
   "metadata": {},
   "outputs": [
    {
     "data": {
      "text/plain": [
       "array([  0,  85, 123,  46,   6, 103,  56,  23,  78,  33,  30,  52,  83,\n",
       "        73,  31,   5,  10,  26, 110,  58, 101,  69,  47,  86,   2,  19,\n",
       "         7,  49,   4,  32,  80,  36,  15,  93,  35,  87,  77,  67,  94,\n",
       "       125,  99, 118,  22, 106,  65,  54,  57,  34,  18, 124,  91,  40,\n",
       "       128,  37,  50,  82,  96,  44, 104, 111,  92,  38,  21,  12,  63,\n",
       "        14,  20,  79,  25,  95,  39,  70,  16,  68,  41,   9,  48, 126,\n",
       "        71,  51,  62,  24,  90,  45,   8, 121,  11,   3,  17, 102,  28,\n",
       "        42, 148,  61,  53,  43, 130, 132,  55, 116,  29,  97,  89,  60,\n",
       "       105])"
      ]
     },
     "execution_count": 42,
     "metadata": {},
     "output_type": "execute_result"
    }
   ],
   "source": [
    "raw_df[\"cabin_level_2\"] = raw_df[\"cabin\"].str[1:]\n",
    "raw_df[\"cabin_level_2\"] = raw_df[\"cabin_level_2\"].str.extract(r\"(\\d+)\")\n",
    "raw_df[\"cabin_level_2\"] = raw_df[\"cabin_level_2\"].fillna(0)\n",
    "raw_df[\"cabin_level_2\"] = raw_df[\"cabin_level_2\"].astype(int)\n",
    "raw_df[\"cabin_level_2\"].unique()"
   ]
  },
  {
   "cell_type": "markdown",
   "metadata": {},
   "source": [
    "## **Data Type Transformations**"
   ]
  },
  {
   "cell_type": "code",
   "execution_count": 43,
   "metadata": {},
   "outputs": [
    {
     "name": "stdout",
     "output_type": "stream",
     "text": [
      "<class 'pandas.core.frame.DataFrame'>\n",
      "Index: 1307 entries, 1 to 1309\n",
      "Data columns (total 18 columns):\n",
      " #   Column            Non-Null Count  Dtype  \n",
      "---  ------            --------------  -----  \n",
      " 0   survived          1307 non-null   int64  \n",
      " 1   passenger_class   1307 non-null   int64  \n",
      " 2   full_name         1307 non-null   object \n",
      " 3   sex               1307 non-null   object \n",
      " 4   age               1307 non-null   float64\n",
      " 5   siblings_spouses  1307 non-null   int64  \n",
      " 6   parents_children  1307 non-null   int64  \n",
      " 7   ticket            1307 non-null   object \n",
      " 8   fare              1307 non-null   float64\n",
      " 9   cabin             1307 non-null   object \n",
      " 10  embarked          1307 non-null   object \n",
      " 11  split             1307 non-null   object \n",
      " 12  surname           1307 non-null   object \n",
      " 13  title             1307 non-null   object \n",
      " 14  first_name        1307 non-null   object \n",
      " 15  num_rooms         1307 non-null   int64  \n",
      " 16  cabin_level_1     1307 non-null   object \n",
      " 17  cabin_level_2     1307 non-null   int64  \n",
      "dtypes: float64(2), int64(6), object(10)\n",
      "memory usage: 194.0+ KB\n"
     ]
    }
   ],
   "source": [
    "raw_df.info()"
   ]
  },
  {
   "cell_type": "code",
   "execution_count": 44,
   "metadata": {},
   "outputs": [
    {
     "data": {
      "text/plain": [
       "Index(['survived', 'passenger_class', 'full_name', 'sex', 'age',\n",
       "       'siblings_spouses', 'parents_children', 'ticket', 'fare', 'cabin',\n",
       "       'embarked', 'split', 'surname', 'title', 'first_name', 'num_rooms',\n",
       "       'cabin_level_1', 'cabin_level_2'],\n",
       "      dtype='object')"
      ]
     },
     "execution_count": 44,
     "metadata": {},
     "output_type": "execute_result"
    }
   ],
   "source": [
    "raw_df.columns"
   ]
  },
  {
   "cell_type": "markdown",
   "metadata": {},
   "source": [
    "### **Discrete Variables**"
   ]
  },
  {
   "cell_type": "code",
   "execution_count": 45,
   "metadata": {},
   "outputs": [],
   "source": [
    "DISCRETE_VARS_LIST = [\"siblings_spouses\", \"parents_children\", \"num_rooms\"]\n",
    "\n",
    "for col in DISCRETE_VARS_LIST:\n",
    "    raw_df[col] = raw_df[col].astype(\"int\")"
   ]
  },
  {
   "cell_type": "markdown",
   "metadata": {},
   "source": [
    "### **Continuous Variables**\n",
    "\n",
    "Continuous (numerical) variables should usually be stored as the `float` data type because they allow us to store decimal values."
   ]
  },
  {
   "cell_type": "code",
   "execution_count": 46,
   "metadata": {},
   "outputs": [],
   "source": [
    "CONT_VARS_LIST = [\"age\", \"fare\"]\n",
    "\n",
    "for col in CONT_VARS_LIST:\n",
    "    raw_df[col] = raw_df[col].astype(\"float\")"
   ]
  },
  {
   "cell_type": "markdown",
   "metadata": {},
   "source": [
    "### **Binary Variables**"
   ]
  },
  {
   "cell_type": "code",
   "execution_count": 47,
   "metadata": {},
   "outputs": [],
   "source": [
    "BOOL_VARS_LIST = [\"survived\"]\n",
    "for col in BOOL_VARS_LIST:\n",
    "    raw_df[col] = raw_df[col].astype(\"bool\")"
   ]
  },
  {
   "cell_type": "markdown",
   "metadata": {},
   "source": [
    "### **Ordinal Variables**"
   ]
  },
  {
   "cell_type": "code",
   "execution_count": 48,
   "metadata": {},
   "outputs": [
    {
     "name": "stdout",
     "output_type": "stream",
     "text": [
      "[3, 1, 2]\n",
      "Categories (3, int64): [1, 2, 3]\n",
      "passenger_id\n",
      "843     1\n",
      "988     1\n",
      "1144    1\n",
      "582     1\n",
      "584     1\n",
      "Name: passenger_class, dtype: category\n",
      "Categories (3, int64): [1, 2, 3]\n"
     ]
    }
   ],
   "source": [
    "ORD_VARS_DICT = {\"passenger_class\": {3: \"Lower\", 2: \"Middle\", 1: \"Upper\"}}\n",
    "\n",
    "for col in ORD_VARS_DICT.keys():\n",
    "    raw_df[col] = raw_df[col].astype(\"category\")\n",
    "    print(raw_df[col].unique())\n",
    "    print(raw_df[col].sort_values().head())"
   ]
  },
  {
   "cell_type": "code",
   "execution_count": 49,
   "metadata": {},
   "outputs": [
    {
     "name": "stdout",
     "output_type": "stream",
     "text": [
      "passenger_class\n",
      "['Lower', 'Upper', 'Middle']\n",
      "Categories (3, object): ['Lower' < 'Middle' < 'Upper']\n",
      "passenger_id\n",
      "1      Lower\n",
      "732    Lower\n",
      "736    Lower\n",
      "737    Lower\n",
      "739    Lower\n",
      "Name: passenger_class, dtype: category\n",
      "Categories (3, object): ['Lower' < 'Middle' < 'Upper']\n"
     ]
    }
   ],
   "source": [
    "for col, ordered_dict in ORD_VARS_DICT.items():\n",
    "    print(col)\n",
    "    raw_df[col] = pd.Categorical(raw_df[col], ordered_dict.keys(), ordered=True)\n",
    "    raw_df[col] = raw_df[col].cat.rename_categories(ordered_dict.values())\n",
    "    print(raw_df[col].unique())\n",
    "    print(raw_df[col].sort_values().head())"
   ]
  },
  {
   "cell_type": "markdown",
   "metadata": {},
   "source": [
    "### **Nominal Variables**"
   ]
  },
  {
   "cell_type": "code",
   "execution_count": 50,
   "metadata": {},
   "outputs": [],
   "source": [
    "NOM_VARS_LIST = [\n",
    "    \"full_name\",\n",
    "    \"surname\",\n",
    "    \"title\",\n",
    "    \"first_name\",\n",
    "    \"cabin\",\n",
    "    \"ticket\",\n",
    "    \"cabin_level_2\",\n",
    "]\n",
    "\n",
    "for col in NOM_VARS_LIST:\n",
    "    raw_df[col] = raw_df[col].astype(\"string\")"
   ]
  },
  {
   "cell_type": "code",
   "execution_count": 51,
   "metadata": {},
   "outputs": [],
   "source": [
    "NOM_CAT_VARS_LIST = [\n",
    "    \"sex\",\n",
    "    \"embarked\",\n",
    "    \"cabin_level_1\",\n",
    "]\n",
    "\n",
    "for col in NOM_CAT_VARS_LIST:\n",
    "    raw_df[col] = raw_df[col].astype(\"category\")"
   ]
  },
  {
   "cell_type": "code",
   "execution_count": 52,
   "metadata": {},
   "outputs": [
    {
     "data": {
      "text/plain": [
       "survived                      bool\n",
       "passenger_class           category\n",
       "full_name           string[python]\n",
       "sex                       category\n",
       "age                        float64\n",
       "siblings_spouses             int64\n",
       "parents_children             int64\n",
       "ticket              string[python]\n",
       "fare                       float64\n",
       "cabin               string[python]\n",
       "embarked                  category\n",
       "split                       object\n",
       "surname             string[python]\n",
       "title               string[python]\n",
       "first_name          string[python]\n",
       "num_rooms                    int64\n",
       "cabin_level_1             category\n",
       "cabin_level_2       string[python]\n",
       "dtype: object"
      ]
     },
     "execution_count": 52,
     "metadata": {},
     "output_type": "execute_result"
    }
   ],
   "source": [
    "raw_df.dtypes"
   ]
  },
  {
   "cell_type": "markdown",
   "metadata": {},
   "source": [
    "## **Reorder Columns**"
   ]
  },
  {
   "cell_type": "code",
   "execution_count": 53,
   "metadata": {},
   "outputs": [
    {
     "name": "stdout",
     "output_type": "stream",
     "text": [
      "<class 'pandas.core.frame.DataFrame'>\n",
      "Index: 1307 entries, 1 to 1309\n",
      "Data columns (total 18 columns):\n",
      " #   Column            Non-Null Count  Dtype   \n",
      "---  ------            --------------  -----   \n",
      " 0   siblings_spouses  1307 non-null   int64   \n",
      " 1   parents_children  1307 non-null   int64   \n",
      " 2   num_rooms         1307 non-null   int64   \n",
      " 3   age               1307 non-null   float64 \n",
      " 4   fare              1307 non-null   float64 \n",
      " 5   survived          1307 non-null   bool    \n",
      " 6   passenger_class   1307 non-null   category\n",
      " 7   sex               1307 non-null   category\n",
      " 8   embarked          1307 non-null   category\n",
      " 9   cabin_level_1     1307 non-null   category\n",
      " 10  full_name         1307 non-null   string  \n",
      " 11  ticket            1307 non-null   string  \n",
      " 12  cabin             1307 non-null   string  \n",
      " 13  surname           1307 non-null   string  \n",
      " 14  title             1307 non-null   string  \n",
      " 15  first_name        1307 non-null   string  \n",
      " 16  cabin_level_2     1307 non-null   string  \n",
      " 17  split             1307 non-null   object  \n",
      "dtypes: bool(1), category(4), float64(2), int64(3), object(1), string(7)\n",
      "memory usage: 150.1+ KB\n"
     ]
    }
   ],
   "source": [
    "new_col_order = []\n",
    "feature_types = [\"int\", \"float\", np.bool, \"category\", \"string\", \"object\"]\n",
    "\n",
    "for feature_type in feature_types:\n",
    "    new_col_order += raw_df.select_dtypes(include=[feature_type]).columns.to_list()\n",
    "\n",
    "raw_df = raw_df[new_col_order]\n",
    "raw_df.info()"
   ]
  },
  {
   "cell_type": "code",
   "execution_count": 54,
   "metadata": {},
   "outputs": [],
   "source": [
    "os.chdir(INTERIM_DATA_DIR)\n",
    "raw_df.to_parquet(\"cleaned.parquet\")"
   ]
  }
 ],
 "metadata": {
  "kernelspec": {
   "display_name": "Python 3",
   "language": "python",
   "name": "python3"
  },
  "language_info": {
   "codemirror_mode": {
    "name": "ipython",
    "version": 3
   },
   "file_extension": ".py",
   "mimetype": "text/x-python",
   "name": "python",
   "nbconvert_exporter": "python",
   "pygments_lexer": "ipython3",
   "version": "3.13.0"
  }
 },
 "nbformat": 4,
 "nbformat_minor": 2
}
